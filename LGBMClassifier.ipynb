{
  "nbformat": 4,
  "nbformat_minor": 0,
  "metadata": {
    "colab": {
      "provenance": []
    },
    "kernelspec": {
      "name": "python3",
      "display_name": "Python 3"
    },
    "language_info": {
      "name": "python"
    }
  },
  "cells": [
    {
      "cell_type": "code",
      "execution_count": 1,
      "metadata": {
        "id": "Dz7ha3PnxYmD"
      },
      "outputs": [],
      "source": [
        "import pandas as pd\n",
        "import numpy as np\n",
        "import matplotlib.pyplot as plt\n",
        "import random\n",
        "import math\n",
        "# import report matrix\n",
        "from sklearn.metrics import classification_report\n",
        "import sklearn.model_selection as model_selection\n",
        "from sklearn.linear_model import Perceptron\n",
        "from sklearn.model_selection import KFold\n",
        "from sklearn.linear_model import Perceptron\n",
        "from sklearn.preprocessing import StandardScaler\n",
        "from imblearn.over_sampling import SMOTE\n",
        "from sklearn.model_selection import StratifiedKFold\n",
        "from sklearn.metrics import f1_score\n",
        "from sklearn.metrics import accuracy_score\n",
        "from sklearn.model_selection import train_test_split\n",
        "from sklearn.preprocessing import LabelEncoder"
      ]
    },
    {
      "cell_type": "markdown",
      "source": [
        "xgb.XGBClassifier() is a boosting algorithm, specifically an implementation of the gradient boosting algorithm. It iteratively builds an ensemble of weak decision tree models by fitting the new model to the residuals (the difference between the predicted and actual values) of the previous model, thereby improving the overall prediction performance. In contrast, bagging (bootstrap aggregation) involves building an ensemble of models using bootstrap samples of the training data, and then averaging the predictions of these models to obtain the final prediction."
      ],
      "metadata": {
        "id": "LToi0eTN2SJh"
      }
    },
    {
      "cell_type": "code",
      "source": [
        "import pandas as pd\n",
        "from sklearn.model_selection import KFold, cross_val_score\n",
        "import xgboost as xgb\n",
        "from sklearn.preprocessing import StandardScaler\n",
        "\n",
        "# load the data into a Pandas DataFrame\n",
        "data = pd.read_csv('body_level_classification_train.csv')\n",
        "\n",
        "# convert Body Level to numeric values\n",
        "data['Gender'] = pd.factorize(data['Gender'])[0]\n",
        "data['Body_Level'] = pd.factorize(data['Body_Level'])[0]\n",
        "# H_Cal_Consump\n",
        "data['H_Cal_Consump'] = pd.factorize(data['H_Cal_Consump'])[0]\n",
        "# Alcohol_Consump\n",
        "data['Alcohol_Consump'] = pd.factorize(data['Alcohol_Consump'])[0]\n",
        "# Smoking\n",
        "data['Smoking'] = pd.factorize(data['Smoking'])[0]\n",
        "# Food_Between_Meals\n",
        "data['Food_Between_Meals'] = pd.factorize(data['Food_Between_Meals'])[0]\n",
        "# Fam_Hist\n",
        "data['Fam_Hist'] = pd.factorize(data['Fam_Hist'])[0]\n",
        "# H_Col_Burn\n",
        "data['H_Cal_Burn'] = pd.factorize(data['H_Cal_Burn'])[0]\n",
        "# Tranport\n",
        "data['Transport'] = pd.factorize(data['Transport'])[0]\n",
        "\n",
        "# separate the features and target variable\n",
        "X = data.drop('Body_Level', axis=1)\n",
        "y = data['Body_Level']\n",
        "\n",
        "## scaleing doesnot make any change in score\n",
        "# scaler = StandardScaler()\n",
        "# X = scaler.fit_transform(X)\n",
        "\n",
        "# create an XGBoost classifier object\n",
        "model = xgb.XGBClassifier()\n",
        "\n",
        "# create a KFold object\n",
        "kf = KFold(n_splits=10, shuffle=True, random_state=42)\n",
        "\n",
        "# perform cross-validation\n",
        "scores = cross_val_score(model, X, y, cv=kf)\n",
        "\n",
        "# print the mean and standard deviation of the scores\n",
        "print(f\"Accuracy: {scores.mean():.2f} (+/- {scores.std():.2f})\")\n"
      ],
      "metadata": {
        "colab": {
          "base_uri": "https://localhost:8080/"
        },
        "id": "BtCc1jIzyvs_",
        "outputId": "7dc10491-d3ff-40f8-fde8-1b8596ccee84"
      },
      "execution_count": null,
      "outputs": [
        {
          "output_type": "stream",
          "name": "stdout",
          "text": [
            "Accuracy: 0.97 (+/- 0.01)\n"
          ]
        }
      ]
    },
    {
      "cell_type": "code",
      "source": [
        "print(scores)"
      ],
      "metadata": {
        "colab": {
          "base_uri": "https://localhost:8080/"
        },
        "id": "aU09H3q0zky2",
        "outputId": "9aa0b3a1-efd4-45dc-94ba-33e4dbeccfd7"
      },
      "execution_count": null,
      "outputs": [
        {
          "output_type": "stream",
          "name": "stdout",
          "text": [
            "[0.96621622 0.95945946 0.98648649 0.97297297 0.96621622 0.96621622\n",
            " 0.95945946 0.97278912 0.98639456 0.99319728]\n"
          ]
        }
      ]
    },
    {
      "cell_type": "code",
      "source": [
        "import pandas as pd\n",
        "from sklearn.model_selection import KFold, cross_val_score\n",
        "import lightgbm as lgb\n",
        "from sklearn.preprocessing import StandardScaler\n",
        "\n",
        "# load the data into a Pandas DataFrame\n",
        "data = pd.read_csv('body_level_classification_train.csv')\n",
        "# to shaffle the data\n",
        "data = data.sample(frac=1, random_state=42)\n",
        "\n",
        "# data_cat=['Gender','H_Cal_Consump','Alcohol_Consump','Smoking','Food_Between_Meals','Fam_Hist','H_Cal_Burn','Transport','Body_Level']\n",
        "# data_cat=data[data_cat]\n",
        "\n",
        "# data_num = list(set(data.columns) - set(data_cat))\n",
        "# data_num=data[data_num]\n",
        "\n",
        "# le = LabelEncoder()\n",
        "# df_encoded = data_cat.apply(le.fit_transform)\n",
        "\n",
        "# data= pd.concat([data_num, df_encoded], axis=1)\n",
        "# joblib.dump(le, 'label_encoder.joblib')\n",
        "# data.head()\n",
        "# create a LabelEncoder object\n",
        "le = LabelEncoder()\n",
        "# label-encode the column 'Body_Level'\n",
        "data['Body_Level'] = le.fit_transform(data['Body_Level'])\n",
        "# save the encoder to a file\n",
        "joblib.dump(le, 'label_encoder.joblib')\n",
        "\n",
        "# convert Body Level to numeric values\n",
        "data['Gender'] = pd.factorize(data['Gender'])[0]\n",
        "#data['Body_Level'] = pd.factorize(data['Body_Level'])[0]\n",
        "# H_Cal_Consump\n",
        "data['H_Cal_Consump'] = pd.factorize(data['H_Cal_Consump'])[0]\n",
        "# Alcohol_Consump\n",
        "data['Alcohol_Consump'] = pd.factorize(data['Alcohol_Consump'])[0]\n",
        "# Smoking\n",
        "data['Smoking'] = pd.factorize(data['Smoking'])[0]\n",
        "# Food_Between_Meals\n",
        "data['Food_Between_Meals'] = pd.factorize(data['Food_Between_Meals'])[0]\n",
        "# Fam_Hist\n",
        "data['Fam_Hist'] = pd.factorize(data['Fam_Hist'])[0]\n",
        "# H_Col_Burn\n",
        "data['H_Cal_Burn'] = pd.factorize(data['H_Cal_Burn'])[0]\n",
        "# Tranport\n",
        "data['Transport'] = pd.factorize(data['Transport'])[0]\n",
        "\n",
        "#separate the features and target variable\n"
      ],
      "metadata": {
        "id": "iB7kZ66zN871"
      },
      "execution_count": 33,
      "outputs": []
    },
    {
      "cell_type": "code",
      "source": [
        "X = data.drop('Body_Level', axis=1)\n",
        "y = data['Body_Level']\n",
        "\n",
        "scaler = StandardScaler()\n",
        "X = scaler.fit_transform(X)"
      ],
      "metadata": {
        "id": "LaJ_NDR1JzfW"
      },
      "execution_count": 34,
      "outputs": []
    },
    {
      "cell_type": "code",
      "source": [
        "import joblib\n",
        "\n",
        "# Train the model\n",
        "model = lgb.LGBMClassifier(boosting_type='gbdt', objective='multiclass', class_weight='balanced')\n",
        "model.fit(X, y)\n",
        "\n",
        "# Save the model to a file\n",
        "joblib.dump(model, 'lgbm_model.pkl')"
      ],
      "metadata": {
        "colab": {
          "base_uri": "https://localhost:8080/"
        },
        "id": "lw-iQy7xuWvr",
        "outputId": "0bd3bc9f-7b43-46f7-9039-d9e2cd2dc80c"
      },
      "execution_count": 35,
      "outputs": [
        {
          "output_type": "execute_result",
          "data": {
            "text/plain": [
              "['lgbm_model.pkl']"
            ]
          },
          "metadata": {},
          "execution_count": 35
        }
      ]
    },
    {
      "cell_type": "code",
      "source": [
        "print(le.inverse_transform(y))"
      ],
      "metadata": {
        "colab": {
          "base_uri": "https://localhost:8080/"
        },
        "id": "wPNwX-XvRRgf",
        "outputId": "41e46fad-3fd2-4759-cb94-dbf44b9a5466"
      },
      "execution_count": 25,
      "outputs": [
        {
          "output_type": "stream",
          "name": "stdout",
          "text": [
            "['Body Level 1' 'Body Level 1' 'Body Level 1' ... 'Body Level 4'\n",
            " 'Body Level 4' 'Body Level 4']\n"
          ]
        }
      ]
    },
    {
      "cell_type": "code",
      "source": [
        "# Load the saved model from file\n",
        "loaded_model = joblib.load('/content/drive/MyDrive/master_ml/lgbm_model.pkl')\n",
        "\n",
        "# Use the loaded model to make predictions\n",
        "y_pred = loaded_model.predict(X)\n",
        "f1_scores=f1_score(y, y_pred, average='weighted')\n",
        "accurcy_scores=accuracy_score(y, y_pred)\n",
        "print(f\"weighted F1 score {f1_scores:.5f} \")\n",
        "print(f\"Accuracy score {accurcy_scores:.5f} \")"
      ],
      "metadata": {
        "colab": {
          "base_uri": "https://localhost:8080/"
        },
        "id": "5mzET2d1vJwM",
        "outputId": "1483e382-e2dc-449b-dd2d-56cc80b2022d"
      },
      "execution_count": 36,
      "outputs": [
        {
          "output_type": "stream",
          "name": "stdout",
          "text": [
            "weighted F1 score 1.00000 \n",
            "Accuracy score 1.00000 \n"
          ]
        }
      ]
    },
    {
      "cell_type": "code",
      "source": [
        "le = joblib.load('/content/drive/MyDrive/master_ml/label_encoder.joblib')\n",
        "print(le.inverse_transform(y_pred))"
      ],
      "metadata": {
        "colab": {
          "base_uri": "https://localhost:8080/"
        },
        "id": "kvYDwphLUt5Q",
        "outputId": "6180eea8-486f-44da-b4f3-297458d69c7c"
      },
      "execution_count": null,
      "outputs": [
        {
          "output_type": "stream",
          "name": "stdout",
          "text": [
            "['Body Level 1' 'Body Level 1' 'Body Level 1' ... 'Body Level 4'\n",
            " 'Body Level 4' 'Body Level 4']\n"
          ]
        }
      ]
    },
    {
      "cell_type": "code",
      "source": [
        "import pandas as pd\n",
        "import joblib\n",
        "from sklearn.preprocessing import StandardScaler\n",
        "from sklearn.preprocessing import LabelEncoder\n",
        "# read test data and perform inference\n",
        "data=pd.read_csv('/content/drive/MyDrive/master_ml/test.csv')\n",
        "# drop Body_Level column if exists\n",
        "if 'Body_Level' in data.columns:\n",
        "    data=data.drop('Body_Level',axis=1)\n",
        "\n",
        "data.head()"
      ],
      "metadata": {
        "colab": {
          "base_uri": "https://localhost:8080/",
          "height": 270
        },
        "id": "VNxRuWuIVQbT",
        "outputId": "6c74f3ed-626e-490d-df15-2cf1cf6f186e"
      },
      "execution_count": 12,
      "outputs": [
        {
          "output_type": "execute_result",
          "data": {
            "text/plain": [
              "   Gender        Age    Height     Weight H_Cal_Consump  Veg_Consump  \\\n",
              "0  Female  22.547298  1.722461  51.881263           yes     2.663421   \n",
              "1    Male  19.799054  1.743702  54.927529           yes     2.000000   \n",
              "2  Female  17.823438  1.708406  50.000000           yes     1.642241   \n",
              "3  Female  19.007177  1.690727  49.895716           yes     1.212908   \n",
              "4    Male  19.729250  1.793315  58.195150           yes     2.508835   \n",
              "\n",
              "   Water_Consump Alcohol_Consump Smoking  Meal_Count Food_Between_Meals  \\\n",
              "0       1.041110              no      no    3.000000         Frequently   \n",
              "1       2.847264       Sometimes      no    3.289260          Sometimes   \n",
              "2       1.099231       Sometimes      no    3.452590          Sometimes   \n",
              "3       1.029703       Sometimes      no    3.207071          Sometimes   \n",
              "4       2.076933              no      no    3.435905          Sometimes   \n",
              "\n",
              "  Fam_Hist H_Cal_Burn  Phys_Act  Time_E_Dev              Transport  \n",
              "0      yes         no  0.794402    1.391948  Public_Transportation  \n",
              "1      yes         no  1.680844    2.000000  Public_Transportation  \n",
              "2       no         no  0.418875    1.000000  Public_Transportation  \n",
              "3       no         no  2.000000    1.000000  Public_Transportation  \n",
              "4      yes         no  2.026668    1.443328             Automobile  "
            ],
            "text/html": [
              "\n",
              "  <div id=\"df-5136d451-e3a0-45a3-ab41-edc97e4c90fd\">\n",
              "    <div class=\"colab-df-container\">\n",
              "      <div>\n",
              "<style scoped>\n",
              "    .dataframe tbody tr th:only-of-type {\n",
              "        vertical-align: middle;\n",
              "    }\n",
              "\n",
              "    .dataframe tbody tr th {\n",
              "        vertical-align: top;\n",
              "    }\n",
              "\n",
              "    .dataframe thead th {\n",
              "        text-align: right;\n",
              "    }\n",
              "</style>\n",
              "<table border=\"1\" class=\"dataframe\">\n",
              "  <thead>\n",
              "    <tr style=\"text-align: right;\">\n",
              "      <th></th>\n",
              "      <th>Gender</th>\n",
              "      <th>Age</th>\n",
              "      <th>Height</th>\n",
              "      <th>Weight</th>\n",
              "      <th>H_Cal_Consump</th>\n",
              "      <th>Veg_Consump</th>\n",
              "      <th>Water_Consump</th>\n",
              "      <th>Alcohol_Consump</th>\n",
              "      <th>Smoking</th>\n",
              "      <th>Meal_Count</th>\n",
              "      <th>Food_Between_Meals</th>\n",
              "      <th>Fam_Hist</th>\n",
              "      <th>H_Cal_Burn</th>\n",
              "      <th>Phys_Act</th>\n",
              "      <th>Time_E_Dev</th>\n",
              "      <th>Transport</th>\n",
              "    </tr>\n",
              "  </thead>\n",
              "  <tbody>\n",
              "    <tr>\n",
              "      <th>0</th>\n",
              "      <td>Female</td>\n",
              "      <td>22.547298</td>\n",
              "      <td>1.722461</td>\n",
              "      <td>51.881263</td>\n",
              "      <td>yes</td>\n",
              "      <td>2.663421</td>\n",
              "      <td>1.041110</td>\n",
              "      <td>no</td>\n",
              "      <td>no</td>\n",
              "      <td>3.000000</td>\n",
              "      <td>Frequently</td>\n",
              "      <td>yes</td>\n",
              "      <td>no</td>\n",
              "      <td>0.794402</td>\n",
              "      <td>1.391948</td>\n",
              "      <td>Public_Transportation</td>\n",
              "    </tr>\n",
              "    <tr>\n",
              "      <th>1</th>\n",
              "      <td>Male</td>\n",
              "      <td>19.799054</td>\n",
              "      <td>1.743702</td>\n",
              "      <td>54.927529</td>\n",
              "      <td>yes</td>\n",
              "      <td>2.000000</td>\n",
              "      <td>2.847264</td>\n",
              "      <td>Sometimes</td>\n",
              "      <td>no</td>\n",
              "      <td>3.289260</td>\n",
              "      <td>Sometimes</td>\n",
              "      <td>yes</td>\n",
              "      <td>no</td>\n",
              "      <td>1.680844</td>\n",
              "      <td>2.000000</td>\n",
              "      <td>Public_Transportation</td>\n",
              "    </tr>\n",
              "    <tr>\n",
              "      <th>2</th>\n",
              "      <td>Female</td>\n",
              "      <td>17.823438</td>\n",
              "      <td>1.708406</td>\n",
              "      <td>50.000000</td>\n",
              "      <td>yes</td>\n",
              "      <td>1.642241</td>\n",
              "      <td>1.099231</td>\n",
              "      <td>Sometimes</td>\n",
              "      <td>no</td>\n",
              "      <td>3.452590</td>\n",
              "      <td>Sometimes</td>\n",
              "      <td>no</td>\n",
              "      <td>no</td>\n",
              "      <td>0.418875</td>\n",
              "      <td>1.000000</td>\n",
              "      <td>Public_Transportation</td>\n",
              "    </tr>\n",
              "    <tr>\n",
              "      <th>3</th>\n",
              "      <td>Female</td>\n",
              "      <td>19.007177</td>\n",
              "      <td>1.690727</td>\n",
              "      <td>49.895716</td>\n",
              "      <td>yes</td>\n",
              "      <td>1.212908</td>\n",
              "      <td>1.029703</td>\n",
              "      <td>Sometimes</td>\n",
              "      <td>no</td>\n",
              "      <td>3.207071</td>\n",
              "      <td>Sometimes</td>\n",
              "      <td>no</td>\n",
              "      <td>no</td>\n",
              "      <td>2.000000</td>\n",
              "      <td>1.000000</td>\n",
              "      <td>Public_Transportation</td>\n",
              "    </tr>\n",
              "    <tr>\n",
              "      <th>4</th>\n",
              "      <td>Male</td>\n",
              "      <td>19.729250</td>\n",
              "      <td>1.793315</td>\n",
              "      <td>58.195150</td>\n",
              "      <td>yes</td>\n",
              "      <td>2.508835</td>\n",
              "      <td>2.076933</td>\n",
              "      <td>no</td>\n",
              "      <td>no</td>\n",
              "      <td>3.435905</td>\n",
              "      <td>Sometimes</td>\n",
              "      <td>yes</td>\n",
              "      <td>no</td>\n",
              "      <td>2.026668</td>\n",
              "      <td>1.443328</td>\n",
              "      <td>Automobile</td>\n",
              "    </tr>\n",
              "  </tbody>\n",
              "</table>\n",
              "</div>\n",
              "      <button class=\"colab-df-convert\" onclick=\"convertToInteractive('df-5136d451-e3a0-45a3-ab41-edc97e4c90fd')\"\n",
              "              title=\"Convert this dataframe to an interactive table.\"\n",
              "              style=\"display:none;\">\n",
              "        \n",
              "  <svg xmlns=\"http://www.w3.org/2000/svg\" height=\"24px\"viewBox=\"0 0 24 24\"\n",
              "       width=\"24px\">\n",
              "    <path d=\"M0 0h24v24H0V0z\" fill=\"none\"/>\n",
              "    <path d=\"M18.56 5.44l.94 2.06.94-2.06 2.06-.94-2.06-.94-.94-2.06-.94 2.06-2.06.94zm-11 1L8.5 8.5l.94-2.06 2.06-.94-2.06-.94L8.5 2.5l-.94 2.06-2.06.94zm10 10l.94 2.06.94-2.06 2.06-.94-2.06-.94-.94-2.06-.94 2.06-2.06.94z\"/><path d=\"M17.41 7.96l-1.37-1.37c-.4-.4-.92-.59-1.43-.59-.52 0-1.04.2-1.43.59L10.3 9.45l-7.72 7.72c-.78.78-.78 2.05 0 2.83L4 21.41c.39.39.9.59 1.41.59.51 0 1.02-.2 1.41-.59l7.78-7.78 2.81-2.81c.8-.78.8-2.07 0-2.86zM5.41 20L4 18.59l7.72-7.72 1.47 1.35L5.41 20z\"/>\n",
              "  </svg>\n",
              "      </button>\n",
              "      \n",
              "  <style>\n",
              "    .colab-df-container {\n",
              "      display:flex;\n",
              "      flex-wrap:wrap;\n",
              "      gap: 12px;\n",
              "    }\n",
              "\n",
              "    .colab-df-convert {\n",
              "      background-color: #E8F0FE;\n",
              "      border: none;\n",
              "      border-radius: 50%;\n",
              "      cursor: pointer;\n",
              "      display: none;\n",
              "      fill: #1967D2;\n",
              "      height: 32px;\n",
              "      padding: 0 0 0 0;\n",
              "      width: 32px;\n",
              "    }\n",
              "\n",
              "    .colab-df-convert:hover {\n",
              "      background-color: #E2EBFA;\n",
              "      box-shadow: 0px 1px 2px rgba(60, 64, 67, 0.3), 0px 1px 3px 1px rgba(60, 64, 67, 0.15);\n",
              "      fill: #174EA6;\n",
              "    }\n",
              "\n",
              "    [theme=dark] .colab-df-convert {\n",
              "      background-color: #3B4455;\n",
              "      fill: #D2E3FC;\n",
              "    }\n",
              "\n",
              "    [theme=dark] .colab-df-convert:hover {\n",
              "      background-color: #434B5C;\n",
              "      box-shadow: 0px 1px 3px 1px rgba(0, 0, 0, 0.15);\n",
              "      filter: drop-shadow(0px 1px 2px rgba(0, 0, 0, 0.3));\n",
              "      fill: #FFFFFF;\n",
              "    }\n",
              "  </style>\n",
              "\n",
              "      <script>\n",
              "        const buttonEl =\n",
              "          document.querySelector('#df-5136d451-e3a0-45a3-ab41-edc97e4c90fd button.colab-df-convert');\n",
              "        buttonEl.style.display =\n",
              "          google.colab.kernel.accessAllowed ? 'block' : 'none';\n",
              "\n",
              "        async function convertToInteractive(key) {\n",
              "          const element = document.querySelector('#df-5136d451-e3a0-45a3-ab41-edc97e4c90fd');\n",
              "          const dataTable =\n",
              "            await google.colab.kernel.invokeFunction('convertToInteractive',\n",
              "                                                     [key], {});\n",
              "          if (!dataTable) return;\n",
              "\n",
              "          const docLinkHtml = 'Like what you see? Visit the ' +\n",
              "            '<a target=\"_blank\" href=https://colab.research.google.com/notebooks/data_table.ipynb>data table notebook</a>'\n",
              "            + ' to learn more about interactive tables.';\n",
              "          element.innerHTML = '';\n",
              "          dataTable['output_type'] = 'display_data';\n",
              "          await google.colab.output.renderOutput(dataTable, element);\n",
              "          const docLink = document.createElement('div');\n",
              "          docLink.innerHTML = docLinkHtml;\n",
              "          element.appendChild(docLink);\n",
              "        }\n",
              "      </script>\n",
              "    </div>\n",
              "  </div>\n",
              "  "
            ]
          },
          "metadata": {},
          "execution_count": 12
        }
      ]
    },
    {
      "cell_type": "code",
      "source": [
        "f1_scores=f1_score(y, y_pred, average='weighted')\n",
        "accurcy_scores=accuracy_score(y, y_pred)\n",
        "print(f\"weighted F1 score {f1_scores:.5f} \")\n",
        "print(f\"Accuracy score {accurcy_scores:.5f} \")"
      ],
      "metadata": {
        "colab": {
          "base_uri": "https://localhost:8080/"
        },
        "id": "4m2230REGT1Y",
        "outputId": "f86b82ce-f303-4167-8ef5-119daea10bd8"
      },
      "execution_count": null,
      "outputs": [
        {
          "output_type": "stream",
          "name": "stdout",
          "text": [
            "weighted F1 score 1.00000 \n",
            "Accuracy score 1.00000 \n"
          ]
        }
      ]
    },
    {
      "cell_type": "code",
      "source": [
        "y_pred = le.inverse_transform(y_pred)\n",
        "print(y_pred)"
      ],
      "metadata": {
        "colab": {
          "base_uri": "https://localhost:8080/"
        },
        "id": "jkWgWp8WVutj",
        "outputId": "3dc7c292-9122-4350-d31d-9f35df2a493f"
      },
      "execution_count": 8,
      "outputs": [
        {
          "output_type": "stream",
          "name": "stdout",
          "text": [
            "['Body Level 3' 'Body Level 1' 'Body Level 1' ... 'Body Level 4'\n",
            " 'Body Level 4' 'Body Level 3']\n"
          ]
        }
      ]
    },
    {
      "cell_type": "code",
      "source": [
        "with open('predictions.txt', 'w') as f:\n",
        "    for item in y_pred:\n",
        "        f.write(\"%s\\n\" % item)"
      ],
      "metadata": {
        "id": "zAo3aDRFV2Ol"
      },
      "execution_count": null,
      "outputs": []
    },
    {
      "cell_type": "code",
      "source": [
        "## scaleing doesnot make any change in score\n",
        "# scaler = StandardScaler()\n",
        "# X = scaler.fit_transform(X)\n",
        "\n",
        "# create an XGBoost classifier object\n",
        "model = lgb.LGBMClassifier(boosting_type='gbdt')\n",
        "\n",
        "# create a KFold object\n",
        "kf = KFold(n_splits=10, shuffle=True, random_state=42)\n",
        "\n",
        "# perform cross-validation\n",
        "scores = cross_val_score(model, X, y, cv=kf)\n",
        "\n",
        "# print the mean and standard deviation of the scores\n",
        "print(f\"Accuracy: {scores.mean():.2f} (+/- {scores.std():.2f})\")\n"
      ],
      "metadata": {
        "colab": {
          "base_uri": "https://localhost:8080/"
        },
        "id": "_EBmyIT36gcU",
        "outputId": "93fe25aa-0b36-4b78-e48f-82952ecf6205"
      },
      "execution_count": null,
      "outputs": [
        {
          "output_type": "stream",
          "name": "stdout",
          "text": [
            "Accuracy: 0.98 (+/- 0.01)\n"
          ]
        }
      ]
    },
    {
      "cell_type": "markdown",
      "source": [
        "Try To apply SMOTE"
      ],
      "metadata": {
        "id": "DbZgtH2-Fj2n"
      }
    },
    {
      "cell_type": "code",
      "source": [
        "# draw body level distribution\n",
        "body_level_count= data['Body_Level'].value_counts()\n",
        "print(body_level_count)\n",
        "plt.bar(body_level_count.index, body_level_count.values)"
      ],
      "metadata": {
        "colab": {
          "base_uri": "https://localhost:8080/",
          "height": 534
        },
        "id": "9_Ktl-0VFhf0",
        "outputId": "fa7722b1-948d-409c-a495-b9d27a8d7093"
      },
      "execution_count": null,
      "outputs": [
        {
          "output_type": "stream",
          "name": "stdout",
          "text": [
            "3    680\n",
            "2    406\n",
            "1    201\n",
            "0    190\n",
            "Name: Body_Level, dtype: int64\n"
          ]
        },
        {
          "output_type": "execute_result",
          "data": {
            "text/plain": [
              "<BarContainer object of 4 artists>"
            ]
          },
          "metadata": {},
          "execution_count": 12
        },
        {
          "output_type": "display_data",
          "data": {
            "text/plain": [
              "<Figure size 640x480 with 1 Axes>"
            ],
            "image/png": "[encoded data removed]"
          },
          "metadata": {}
        }
      ]
    },
    {
      "cell_type": "code",
      "source": [
        "smote = SMOTE(random_state=42)\n",
        "X_res, y_res = smote.fit_resample(X, y)"
      ],
      "metadata": {
        "id": "vvgG3CgKHDcW"
      },
      "execution_count": null,
      "outputs": []
    },
    {
      "cell_type": "code",
      "source": [
        "body_level_count= y_res.value_counts()\n",
        "print(body_level_count)\n",
        "plt.bar(body_level_count.index, body_level_count.values)"
      ],
      "metadata": {
        "colab": {
          "base_uri": "https://localhost:8080/",
          "height": 534
        },
        "id": "Ln-e9kLjHOrs",
        "outputId": "2fc0722f-5281-4caf-bfca-806df04cd086"
      },
      "execution_count": null,
      "outputs": [
        {
          "output_type": "stream",
          "name": "stdout",
          "text": [
            "0    680\n",
            "1    680\n",
            "2    680\n",
            "3    680\n",
            "Name: Body_Level, dtype: int64\n"
          ]
        },
        {
          "output_type": "execute_result",
          "data": {
            "text/plain": [
              "<BarContainer object of 4 artists>"
            ]
          },
          "metadata": {},
          "execution_count": 14
        },
        {
          "output_type": "display_data",
          "data": {
            "text/plain": [
              "<Figure size 640x480 with 1 Axes>"
            ],
            "image/png": "[encoded data removed]"
          },
          "metadata": {}
        }
      ]
    },
    {
      "cell_type": "code",
      "source": [
        "model = lgb.LGBMClassifier(boosting_type='gbdt')\n",
        "\n",
        "# create a KFold object\n",
        "kf = KFold(n_splits=10, shuffle=True, random_state=42)\n",
        "\n",
        "# perform cross-validation\n",
        "scores = cross_val_score(model,X_res, y_res, cv=kf)\n",
        "\n",
        "# print the mean and standard deviation of the scores\n",
        "print(f\"Accuracy: {scores.mean():.2f} (+/- {scores.std():.2f})\")"
      ],
      "metadata": {
        "colab": {
          "base_uri": "https://localhost:8080/"
        },
        "id": "iZ_evIv0HNQo",
        "outputId": "95b63b37-ba94-4a32-fb3f-d6ebc2833aae"
      },
      "execution_count": null,
      "outputs": [
        {
          "output_type": "stream",
          "name": "stdout",
          "text": [
            "Accuracy: 0.99 (+/- 0.01)\n"
          ]
        }
      ]
    },
    {
      "cell_type": "code",
      "source": [
        "\n",
        "# Set up k-fold cross-validation with 10 folds\n",
        "kf = StratifiedKFold(n_splits=10, shuffle=True, random_state=0)\n",
        "\n",
        "# Initialize an empty list to store the cross-validation scores\n",
        "f1_scores = []\n",
        "accurcy_score=[]\n",
        "\n",
        "# Loop over each fold and train/test the Perceptron model\n",
        "for train_index, test_index in kf.split(X, y):\n",
        "    X_train, X_test = X[train_index], X[test_index]\n",
        "    y_train, y_test = y[train_index], y[test_index]\n",
        "\n",
        "    smote = SMOTE(random_state=42)\n",
        "    X_train, y_train = smote.fit_resample(X_train, y_train)\n",
        "\n",
        "    # Initialize the Perceptron model with any desired hyperparameters\n",
        "    model = lgb.LGBMClassifier(boosting_type='gbdt',objective='multiclass')\n",
        "\n",
        "    model.fit(X_train, y_train)\n",
        "\n",
        "    # Make predictions on the testing data\n",
        "    y_pred = model.predict(X_test)\n",
        "    f1_scores.append(f1_score(y_test, y_pred, average='weighted'))\n",
        "    accurcy_score.append(accuracy_score(y_test, y_pred))\n",
        "f1_scores=np.array(f1_scores)\n",
        "accurcy_score=np.array(accurcy_score)\n",
        "# Compute the average accuracy score over all folds\n",
        "print(f\"weighted F1 score {f1_scores.mean():.5f} (+/- {f1_scores.std():.5f})\")\n",
        "print(f\"Accuracy score {accurcy_score.mean():.5f} (+/- {accurcy_score.std():.5f})\")"
      ],
      "metadata": {
        "colab": {
          "base_uri": "https://localhost:8080/"
        },
        "id": "AsuT-DC_NelS",
        "outputId": "9b8a8edc-cd76-45a1-fbd8-fc549b884bd0"
      },
      "execution_count": null,
      "outputs": [
        {
          "output_type": "stream",
          "name": "stdout",
          "text": [
            "weighted F1 score 1.00000 (+/- 0.00000)\n",
            "Accuracy score 1.00000 (+/- 0.00000)\n"
          ]
        }
      ]
    },
    {
      "cell_type": "code",
      "source": [
        "\n",
        "# Set up k-fold cross-validation with 10 folds\n",
        "kf = StratifiedKFold(n_splits=10, shuffle=True, random_state=0)\n",
        "\n",
        "# Initialize an empty list to store the cross-validation scores\n",
        "f1_scores = []\n",
        "accurcy_score=[]\n",
        "\n",
        "# Loop over each fold and train/test the Perceptron model\n",
        "for train_index, test_index in kf.split(X, y):\n",
        "    X_train, X_test = X[train_index], X[test_index]\n",
        "    y_train, y_test = y[train_index], y[test_index]\n",
        "\n",
        "\n",
        "    # Initialize the Perceptron model with any desired hyperparameters\n",
        "    model = lgb.LGBMClassifier(boosting_type='gbdt',objective='multiclass',class_weight=\"balanced\")\n",
        "\n",
        "    model.fit(X_train, y_train)\n",
        "\n",
        "    # Make predictions on the testing data\n",
        "    y_pred = model.predict(X_test)\n",
        "    f1_scores.append(f1_score(y_test, y_pred, average='weighted'))\n",
        "    accurcy_score.append(accuracy_score(y_test, y_pred))\n",
        "    print(\"Classifction report for weight_options=\")\n",
        "    print(classification_report(y_test, y_pred))\n",
        "f1_scores=np.array(f1_scores)\n",
        "accurcy_score=np.array(accurcy_score)\n",
        "# Compute the average accuracy score over all folds\n",
        "print(f\"weighted F1 score {f1_scores.mean():.5f} (+/- {f1_scores.std():.5f})\")\n",
        "print(f\"Accuracy score {accurcy_score.mean():.5f} (+/- {accurcy_score.std():.5f})\")"
      ],
      "metadata": {
        "colab": {
          "base_uri": "https://localhost:8080/"
        },
        "id": "YbgBk2swVNnd",
        "outputId": "677f83c3-f6f8-4b5e-8cb6-e82b4834c3f2"
      },
      "execution_count": null,
      "outputs": [
        {
          "output_type": "stream",
          "name": "stdout",
          "text": [
            "Classifction report for weight_options=\n",
            "              precision    recall  f1-score   support\n",
            "\n",
            "Body Level 1       1.00      1.00      1.00        19\n",
            "Body Level 2       1.00      1.00      1.00        21\n",
            "Body Level 3       1.00      1.00      1.00        40\n",
            "Body Level 4       1.00      1.00      1.00        68\n",
            "\n",
            "    accuracy                           1.00       148\n",
            "   macro avg       1.00      1.00      1.00       148\n",
            "weighted avg       1.00      1.00      1.00       148\n",
            "\n",
            "Classifction report for weight_options=\n",
            "              precision    recall  f1-score   support\n",
            "\n",
            "Body Level 1       1.00      1.00      1.00        19\n",
            "Body Level 2       1.00      1.00      1.00        20\n",
            "Body Level 3       1.00      1.00      1.00        41\n",
            "Body Level 4       1.00      1.00      1.00        68\n",
            "\n",
            "    accuracy                           1.00       148\n",
            "   macro avg       1.00      1.00      1.00       148\n",
            "weighted avg       1.00      1.00      1.00       148\n",
            "\n",
            "Classifction report for weight_options=\n",
            "              precision    recall  f1-score   support\n",
            "\n",
            "Body Level 1       1.00      1.00      1.00        19\n",
            "Body Level 2       1.00      1.00      1.00        20\n",
            "Body Level 3       1.00      1.00      1.00        41\n",
            "Body Level 4       1.00      1.00      1.00        68\n",
            "\n",
            "    accuracy                           1.00       148\n",
            "   macro avg       1.00      1.00      1.00       148\n",
            "weighted avg       1.00      1.00      1.00       148\n",
            "\n",
            "Classifction report for weight_options=\n",
            "              precision    recall  f1-score   support\n",
            "\n",
            "Body Level 1       1.00      1.00      1.00        19\n",
            "Body Level 2       1.00      1.00      1.00        20\n",
            "Body Level 3       1.00      1.00      1.00        41\n",
            "Body Level 4       1.00      1.00      1.00        68\n",
            "\n",
            "    accuracy                           1.00       148\n",
            "   macro avg       1.00      1.00      1.00       148\n",
            "weighted avg       1.00      1.00      1.00       148\n",
            "\n",
            "Classifction report for weight_options=\n",
            "              precision    recall  f1-score   support\n",
            "\n",
            "Body Level 1       1.00      1.00      1.00        19\n",
            "Body Level 2       1.00      1.00      1.00        20\n",
            "Body Level 3       1.00      1.00      1.00        41\n",
            "Body Level 4       1.00      1.00      1.00        68\n",
            "\n",
            "    accuracy                           1.00       148\n",
            "   macro avg       1.00      1.00      1.00       148\n",
            "weighted avg       1.00      1.00      1.00       148\n",
            "\n",
            "Classifction report for weight_options=\n",
            "              precision    recall  f1-score   support\n",
            "\n",
            "Body Level 1       1.00      1.00      1.00        19\n",
            "Body Level 2       1.00      1.00      1.00        20\n",
            "Body Level 3       1.00      1.00      1.00        41\n",
            "Body Level 4       1.00      1.00      1.00        68\n",
            "\n",
            "    accuracy                           1.00       148\n",
            "   macro avg       1.00      1.00      1.00       148\n",
            "weighted avg       1.00      1.00      1.00       148\n",
            "\n",
            "Classifction report for weight_options=\n",
            "              precision    recall  f1-score   support\n",
            "\n",
            "Body Level 1       1.00      1.00      1.00        19\n",
            "Body Level 2       1.00      1.00      1.00        20\n",
            "Body Level 3       1.00      1.00      1.00        41\n",
            "Body Level 4       1.00      1.00      1.00        68\n",
            "\n",
            "    accuracy                           1.00       148\n",
            "   macro avg       1.00      1.00      1.00       148\n",
            "weighted avg       1.00      1.00      1.00       148\n",
            "\n",
            "Classifction report for weight_options=\n",
            "              precision    recall  f1-score   support\n",
            "\n",
            "Body Level 1       1.00      1.00      1.00        19\n",
            "Body Level 2       1.00      1.00      1.00        20\n",
            "Body Level 3       1.00      1.00      1.00        40\n",
            "Body Level 4       1.00      1.00      1.00        68\n",
            "\n",
            "    accuracy                           1.00       147\n",
            "   macro avg       1.00      1.00      1.00       147\n",
            "weighted avg       1.00      1.00      1.00       147\n",
            "\n",
            "Classifction report for weight_options=\n",
            "              precision    recall  f1-score   support\n",
            "\n",
            "Body Level 1       1.00      1.00      1.00        19\n",
            "Body Level 2       1.00      1.00      1.00        20\n",
            "Body Level 3       1.00      1.00      1.00        40\n",
            "Body Level 4       1.00      1.00      1.00        68\n",
            "\n",
            "    accuracy                           1.00       147\n",
            "   macro avg       1.00      1.00      1.00       147\n",
            "weighted avg       1.00      1.00      1.00       147\n",
            "\n",
            "Classifction report for weight_options=\n",
            "              precision    recall  f1-score   support\n",
            "\n",
            "Body Level 1       1.00      1.00      1.00        19\n",
            "Body Level 2       1.00      1.00      1.00        20\n",
            "Body Level 3       1.00      1.00      1.00        40\n",
            "Body Level 4       1.00      1.00      1.00        68\n",
            "\n",
            "    accuracy                           1.00       147\n",
            "   macro avg       1.00      1.00      1.00       147\n",
            "weighted avg       1.00      1.00      1.00       147\n",
            "\n",
            "weighted F1 score 1.00000 (+/- 0.00000)\n",
            "Accuracy score 1.00000 (+/- 0.00000)\n"
          ]
        }
      ]
    },
    {
      "cell_type": "code",
      "source": [
        "print(f1_scores)\n",
        "print(accurcy_score)"
      ],
      "metadata": {
        "colab": {
          "base_uri": "https://localhost:8080/"
        },
        "id": "JDqqEbf__E8X",
        "outputId": "4430867c-dc99-4a7c-da98-3f1a13fc20f9"
      },
      "execution_count": null,
      "outputs": [
        {
          "output_type": "stream",
          "name": "stdout",
          "text": [
            "[1. 1. 1. 1. 1. 1. 1. 1. 1. 1.]\n",
            "[1. 1. 1. 1. 1. 1. 1. 1. 1. 1.]\n"
          ]
        }
      ]
    },
    {
      "cell_type": "code",
      "source": [
        "model = lgb.LGBMClassifier(boosting_type='gbdt',class_weight=\"balanced\")\n",
        "train, test = model_selection.train_test_split(data, train_size=0.8,test_size=0.2, random_state=0)\n",
        "# get X_train, X_test, y_train, y_test\n",
        "X_train = train.drop(['Body_Level'], axis=1)\n",
        "y_train = train['Body_Level']\n",
        "X_test = test.drop(['Body_Level'], axis=1)\n",
        "y_test = test['Body_Level']\n",
        "\n",
        "smote = SMOTE(random_state=42)\n",
        "X_train, y_train = smote.fit_resample(X_train, y_train)\n",
        "\n",
        "model.fit(X_train, y_train)\n",
        "\n",
        "# Make predictions on the testing data\n",
        "y_pred = model.predict(X_test)\n",
        "\n",
        "print(\"Classifction report for weight_options=\")\n",
        "print(classification_report(y_test, y_pred))"
      ],
      "metadata": {
        "colab": {
          "base_uri": "https://localhost:8080/"
        },
        "id": "eGFIJGh8IPL8",
        "outputId": "6a7bcb3d-7d7b-4a6f-a1a0-ead067826f71"
      },
      "execution_count": null,
      "outputs": [
        {
          "output_type": "stream",
          "name": "stdout",
          "text": [
            "Classifction report for weight_options=\n",
            "              precision    recall  f1-score   support\n",
            "\n",
            "           0       0.96      1.00      0.98        49\n",
            "           1       0.92      0.95      0.94        38\n",
            "           2       1.00      0.96      0.98        69\n",
            "           3       1.00      1.00      1.00       140\n",
            "\n",
            "    accuracy                           0.98       296\n",
            "   macro avg       0.97      0.98      0.97       296\n",
            "weighted avg       0.98      0.98      0.98       296\n",
            "\n"
          ]
        }
      ]
    },
    {
      "cell_type": "code",
      "source": [
        "model = lgb.LGBMClassifier(boosting_type='gbdt',class_weight=\"balanced\")\n",
        "train, test = model_selection.train_test_split(data, train_size=0.8,test_size=0.2, random_state=0)\n",
        "# get X_train, X_test, y_train, y_test\n",
        "X_train = train.drop(['Body_Level'], axis=1)\n",
        "y_train = train['Body_Level']\n",
        "X_test = test.drop(['Body_Level'], axis=1)\n",
        "y_test = test['Body_Level']\n",
        "\n",
        "model.fit(X_train, y_train)\n",
        "\n",
        "# Make predictions on the testing data\n",
        "y_pred = model.predict(X_test)\n",
        "\n",
        "print(\"Classifction report for weight_options=\")\n",
        "print(classification_report(y_test, y_pred))"
      ],
      "metadata": {
        "colab": {
          "base_uri": "https://localhost:8080/"
        },
        "id": "8S9D7-lMB6pG",
        "outputId": "dfc4d177-f91b-4e55-8fe2-97832f1f2c11"
      },
      "execution_count": null,
      "outputs": [
        {
          "output_type": "stream",
          "name": "stdout",
          "text": [
            "Classifction report for weight_options=\n",
            "              precision    recall  f1-score   support\n",
            "\n",
            "           0       0.95      0.92      0.93        38\n",
            "           1       0.87      0.92      0.89        37\n",
            "           2       0.99      0.98      0.98        83\n",
            "           3       1.00      1.00      1.00       138\n",
            "\n",
            "    accuracy                           0.97       296\n",
            "   macro avg       0.95      0.95      0.95       296\n",
            "weighted avg       0.97      0.97      0.97       296\n",
            "\n"
          ]
        }
      ]
    },
    {
      "cell_type": "markdown",
      "source": [
        "SMOTE not added improvement\n",
        "\n",
        "---\n",
        "\n"
      ],
      "metadata": {
        "id": "5ManIr-WKWl5"
      }
    },
    {
      "cell_type": "markdown",
      "source": [
        "## boosting_type\n",
        "boosting_type parameter in lgb.LGBMClassifier specifies the type of gradient boosting to use in the LightGBM model. It can take on one of the following values:\n",
        "\n",
        "gbdt: Gradient Boosting Decision Tree. This is the default and most commonly used type of gradient boosting, where trees are built in a serial manner, with each tree trying to correct the mistakes made by the previous tree.\n",
        "\n",
        "dart: Dropout-based Adaptive Regularization Training. This type of boosting drops some trees during the training process to avoid overfitting, similar to dropout regularization used in neural networks.\n",
        "\n",
        "goss: Gradient-based One-Side Sampling. This is a more memory-efficient boosting method that only uses a subset of the data to build each tree, by sampling instances that have large gradients."
      ],
      "metadata": {
        "id": "XEjrxi6ySIHH"
      }
    },
    {
      "cell_type": "code",
      "source": [
        "boosting_type_options = ['gbdt', 'dart', 'goss']\n",
        "score = [0.0, 0.0, 0.0]\n",
        "for i in range(len(boosting_type_options)):\n",
        "    # create an instance of the Perceptron class with multi_class='ovr'\n",
        "    model = lgb.LGBMClassifier(boosting_type=boosting_type_options[i])\n",
        "    # create a KFold object\n",
        "    kf = StratifiedKFold(n_splits=10, shuffle=True, random_state=7)\n",
        "    # perform cross-validation\n",
        "    scores = cross_val_score(model, X, y, cv=kf)\n",
        "    # save scores mean and std\n",
        "    score[i] = f\"{scores.mean():.3f} (+/- {scores.std():.3f})\"\n",
        "penalty_score = pd.DataFrame({'penalty_options': boosting_type_options, 'score': score})\n",
        "penalty_score"
      ],
      "metadata": {
        "colab": {
          "base_uri": "https://localhost:8080/",
          "height": 143
        },
        "id": "OehuwhL6Pbt1",
        "outputId": "f5e6d11a-9709-4aab-bc98-d48a4d493a24"
      },
      "execution_count": null,
      "outputs": [
        {
          "output_type": "execute_result",
          "data": {
            "text/plain": [
              "  penalty_options              score\n",
              "0            gbdt  0.978 (+/- 0.012)\n",
              "1            dart  0.977 (+/- 0.011)\n",
              "2            goss  0.980 (+/- 0.011)"
            ],
            "text/html": [
              "\n",
              "  <div id=\"df-e2f44200-68f6-4e44-8ced-bbd964f205cd\">\n",
              "    <div class=\"colab-df-container\">\n",
              "      <div>\n",
              "<style scoped>\n",
              "    .dataframe tbody tr th:only-of-type {\n",
              "        vertical-align: middle;\n",
              "    }\n",
              "\n",
              "    .dataframe tbody tr th {\n",
              "        vertical-align: top;\n",
              "    }\n",
              "\n",
              "    .dataframe thead th {\n",
              "        text-align: right;\n",
              "    }\n",
              "</style>\n",
              "<table border=\"1\" class=\"dataframe\">\n",
              "  <thead>\n",
              "    <tr style=\"text-align: right;\">\n",
              "      <th></th>\n",
              "      <th>penalty_options</th>\n",
              "      <th>score</th>\n",
              "    </tr>\n",
              "  </thead>\n",
              "  <tbody>\n",
              "    <tr>\n",
              "      <th>0</th>\n",
              "      <td>gbdt</td>\n",
              "      <td>0.978 (+/- 0.012)</td>\n",
              "    </tr>\n",
              "    <tr>\n",
              "      <th>1</th>\n",
              "      <td>dart</td>\n",
              "      <td>0.977 (+/- 0.011)</td>\n",
              "    </tr>\n",
              "    <tr>\n",
              "      <th>2</th>\n",
              "      <td>goss</td>\n",
              "      <td>0.980 (+/- 0.011)</td>\n",
              "    </tr>\n",
              "  </tbody>\n",
              "</table>\n",
              "</div>\n",
              "      <button class=\"colab-df-convert\" onclick=\"convertToInteractive('df-e2f44200-68f6-4e44-8ced-bbd964f205cd')\"\n",
              "              title=\"Convert this dataframe to an interactive table.\"\n",
              "              style=\"display:none;\">\n",
              "        \n",
              "  <svg xmlns=\"http://www.w3.org/2000/svg\" height=\"24px\"viewBox=\"0 0 24 24\"\n",
              "       width=\"24px\">\n",
              "    <path d=\"M0 0h24v24H0V0z\" fill=\"none\"/>\n",
              "    <path d=\"M18.56 5.44l.94 2.06.94-2.06 2.06-.94-2.06-.94-.94-2.06-.94 2.06-2.06.94zm-11 1L8.5 8.5l.94-2.06 2.06-.94-2.06-.94L8.5 2.5l-.94 2.06-2.06.94zm10 10l.94 2.06.94-2.06 2.06-.94-2.06-.94-.94-2.06-.94 2.06-2.06.94z\"/><path d=\"M17.41 7.96l-1.37-1.37c-.4-.4-.92-.59-1.43-.59-.52 0-1.04.2-1.43.59L10.3 9.45l-7.72 7.72c-.78.78-.78 2.05 0 2.83L4 21.41c.39.39.9.59 1.41.59.51 0 1.02-.2 1.41-.59l7.78-7.78 2.81-2.81c.8-.78.8-2.07 0-2.86zM5.41 20L4 18.59l7.72-7.72 1.47 1.35L5.41 20z\"/>\n",
              "  </svg>\n",
              "      </button>\n",
              "      \n",
              "  <style>\n",
              "    .colab-df-container {\n",
              "      display:flex;\n",
              "      flex-wrap:wrap;\n",
              "      gap: 12px;\n",
              "    }\n",
              "\n",
              "    .colab-df-convert {\n",
              "      background-color: #E8F0FE;\n",
              "      border: none;\n",
              "      border-radius: 50%;\n",
              "      cursor: pointer;\n",
              "      display: none;\n",
              "      fill: #1967D2;\n",
              "      height: 32px;\n",
              "      padding: 0 0 0 0;\n",
              "      width: 32px;\n",
              "    }\n",
              "\n",
              "    .colab-df-convert:hover {\n",
              "      background-color: #E2EBFA;\n",
              "      box-shadow: 0px 1px 2px rgba(60, 64, 67, 0.3), 0px 1px 3px 1px rgba(60, 64, 67, 0.15);\n",
              "      fill: #174EA6;\n",
              "    }\n",
              "\n",
              "    [theme=dark] .colab-df-convert {\n",
              "      background-color: #3B4455;\n",
              "      fill: #D2E3FC;\n",
              "    }\n",
              "\n",
              "    [theme=dark] .colab-df-convert:hover {\n",
              "      background-color: #434B5C;\n",
              "      box-shadow: 0px 1px 3px 1px rgba(0, 0, 0, 0.15);\n",
              "      filter: drop-shadow(0px 1px 2px rgba(0, 0, 0, 0.3));\n",
              "      fill: #FFFFFF;\n",
              "    }\n",
              "  </style>\n",
              "\n",
              "      <script>\n",
              "        const buttonEl =\n",
              "          document.querySelector('#df-e2f44200-68f6-4e44-8ced-bbd964f205cd button.colab-df-convert');\n",
              "        buttonEl.style.display =\n",
              "          google.colab.kernel.accessAllowed ? 'block' : 'none';\n",
              "\n",
              "        async function convertToInteractive(key) {\n",
              "          const element = document.querySelector('#df-e2f44200-68f6-4e44-8ced-bbd964f205cd');\n",
              "          const dataTable =\n",
              "            await google.colab.kernel.invokeFunction('convertToInteractive',\n",
              "                                                     [key], {});\n",
              "          if (!dataTable) return;\n",
              "\n",
              "          const docLinkHtml = 'Like what you see? Visit the ' +\n",
              "            '<a target=\"_blank\" href=https://colab.research.google.com/notebooks/data_table.ipynb>data table notebook</a>'\n",
              "            + ' to learn more about interactive tables.';\n",
              "          element.innerHTML = '';\n",
              "          dataTable['output_type'] = 'display_data';\n",
              "          await google.colab.output.renderOutput(dataTable, element);\n",
              "          const docLink = document.createElement('div');\n",
              "          docLink.innerHTML = docLinkHtml;\n",
              "          element.appendChild(docLink);\n",
              "        }\n",
              "      </script>\n",
              "    </div>\n",
              "  </div>\n",
              "  "
            ]
          },
          "metadata": {},
          "execution_count": 52
        }
      ]
    },
    {
      "cell_type": "markdown",
      "source": [
        "It show that it is better not to drop any trees in training"
      ],
      "metadata": {
        "id": "CDQ-FbCmOL1-"
      }
    },
    {
      "cell_type": "markdown",
      "source": [
        "### n_estimators\n",
        "n_estimators parameter in lgb.LGBMClassifier specifies the number of boosting rounds or decision trees to build. Each boosting round builds a new tree to correct the mistakes of the previous rounds.\n",
        "\n",
        "Increasing the number of estimators can help improve the model's performance, but it also increases the computation time. It is a hyperparameter that needs to be tuned based on the size of the data and the complexity of the problem.\n",
        "\n",
        "The optimal value of n_estimators depends on various factors, such as the learning rate, the number of training examples, the complexity of the problem, and the regularization applied to the model. Typically, a higher number of estimators improves the model's performance, but beyond a certain threshold, the performance plateaus, and the model may start overfitting the training data.\n",
        "\n",
        "default=100"
      ],
      "metadata": {
        "id": "KDsXStp4cfyq"
      }
    },
    {
      "cell_type": "code",
      "source": [
        "n_estimators_options = [50,100,500,1000]\n",
        "score = [0,0,0,0]\n",
        "for i in range(len(n_estimators_options)):\n",
        "    # create an instance of the Perceptron class with multi_class='ovr'\n",
        "    model = lgb.LGBMClassifier(n_estimators=n_estimators_options[i])\n",
        "    # create a KFold object\n",
        "    kf = StratifiedKFold(n_splits=10, shuffle=True, random_state=42)\n",
        "    # perform cross-validation\n",
        "    scores = cross_val_score(model, X, y, cv=kf)\n",
        "    # save scores mean and std\n",
        "    score[i] = f\"{scores.mean():.3f} (+/- {scores.std():.3f})\"\n",
        "penalty_score = pd.DataFrame({'n_estimators_options': n_estimators_options, 'score': score})\n",
        "penalty_score"
      ],
      "metadata": {
        "colab": {
          "base_uri": "https://localhost:8080/",
          "height": 174
        },
        "id": "eLfyzmtedOpG",
        "outputId": "b745b8b1-d9d6-4671-bd08-ae561c51aeaa"
      },
      "execution_count": null,
      "outputs": [
        {
          "output_type": "execute_result",
          "data": {
            "text/plain": [
              "   n_estimators_options              score\n",
              "0                    50  0.973 (+/- 0.013)\n",
              "1                   100  0.974 (+/- 0.013)\n",
              "2                   500  0.978 (+/- 0.014)\n",
              "3                  1000  0.977 (+/- 0.012)"
            ],
            "text/html": [
              "\n",
              "  <div id=\"df-38143f8f-def6-4704-9b66-742db83a0873\">\n",
              "    <div class=\"colab-df-container\">\n",
              "      <div>\n",
              "<style scoped>\n",
              "    .dataframe tbody tr th:only-of-type {\n",
              "        vertical-align: middle;\n",
              "    }\n",
              "\n",
              "    .dataframe tbody tr th {\n",
              "        vertical-align: top;\n",
              "    }\n",
              "\n",
              "    .dataframe thead th {\n",
              "        text-align: right;\n",
              "    }\n",
              "</style>\n",
              "<table border=\"1\" class=\"dataframe\">\n",
              "  <thead>\n",
              "    <tr style=\"text-align: right;\">\n",
              "      <th></th>\n",
              "      <th>n_estimators_options</th>\n",
              "      <th>score</th>\n",
              "    </tr>\n",
              "  </thead>\n",
              "  <tbody>\n",
              "    <tr>\n",
              "      <th>0</th>\n",
              "      <td>50</td>\n",
              "      <td>0.973 (+/- 0.013)</td>\n",
              "    </tr>\n",
              "    <tr>\n",
              "      <th>1</th>\n",
              "      <td>100</td>\n",
              "      <td>0.974 (+/- 0.013)</td>\n",
              "    </tr>\n",
              "    <tr>\n",
              "      <th>2</th>\n",
              "      <td>500</td>\n",
              "      <td>0.978 (+/- 0.014)</td>\n",
              "    </tr>\n",
              "    <tr>\n",
              "      <th>3</th>\n",
              "      <td>1000</td>\n",
              "      <td>0.977 (+/- 0.012)</td>\n",
              "    </tr>\n",
              "  </tbody>\n",
              "</table>\n",
              "</div>\n",
              "      <button class=\"colab-df-convert\" onclick=\"convertToInteractive('df-38143f8f-def6-4704-9b66-742db83a0873')\"\n",
              "              title=\"Convert this dataframe to an interactive table.\"\n",
              "              style=\"display:none;\">\n",
              "        \n",
              "  <svg xmlns=\"http://www.w3.org/2000/svg\" height=\"24px\"viewBox=\"0 0 24 24\"\n",
              "       width=\"24px\">\n",
              "    <path d=\"M0 0h24v24H0V0z\" fill=\"none\"/>\n",
              "    <path d=\"M18.56 5.44l.94 2.06.94-2.06 2.06-.94-2.06-.94-.94-2.06-.94 2.06-2.06.94zm-11 1L8.5 8.5l.94-2.06 2.06-.94-2.06-.94L8.5 2.5l-.94 2.06-2.06.94zm10 10l.94 2.06.94-2.06 2.06-.94-2.06-.94-.94-2.06-.94 2.06-2.06.94z\"/><path d=\"M17.41 7.96l-1.37-1.37c-.4-.4-.92-.59-1.43-.59-.52 0-1.04.2-1.43.59L10.3 9.45l-7.72 7.72c-.78.78-.78 2.05 0 2.83L4 21.41c.39.39.9.59 1.41.59.51 0 1.02-.2 1.41-.59l7.78-7.78 2.81-2.81c.8-.78.8-2.07 0-2.86zM5.41 20L4 18.59l7.72-7.72 1.47 1.35L5.41 20z\"/>\n",
              "  </svg>\n",
              "      </button>\n",
              "      \n",
              "  <style>\n",
              "    .colab-df-container {\n",
              "      display:flex;\n",
              "      flex-wrap:wrap;\n",
              "      gap: 12px;\n",
              "    }\n",
              "\n",
              "    .colab-df-convert {\n",
              "      background-color: #E8F0FE;\n",
              "      border: none;\n",
              "      border-radius: 50%;\n",
              "      cursor: pointer;\n",
              "      display: none;\n",
              "      fill: #1967D2;\n",
              "      height: 32px;\n",
              "      padding: 0 0 0 0;\n",
              "      width: 32px;\n",
              "    }\n",
              "\n",
              "    .colab-df-convert:hover {\n",
              "      background-color: #E2EBFA;\n",
              "      box-shadow: 0px 1px 2px rgba(60, 64, 67, 0.3), 0px 1px 3px 1px rgba(60, 64, 67, 0.15);\n",
              "      fill: #174EA6;\n",
              "    }\n",
              "\n",
              "    [theme=dark] .colab-df-convert {\n",
              "      background-color: #3B4455;\n",
              "      fill: #D2E3FC;\n",
              "    }\n",
              "\n",
              "    [theme=dark] .colab-df-convert:hover {\n",
              "      background-color: #434B5C;\n",
              "      box-shadow: 0px 1px 3px 1px rgba(0, 0, 0, 0.15);\n",
              "      filter: drop-shadow(0px 1px 2px rgba(0, 0, 0, 0.3));\n",
              "      fill: #FFFFFF;\n",
              "    }\n",
              "  </style>\n",
              "\n",
              "      <script>\n",
              "        const buttonEl =\n",
              "          document.querySelector('#df-38143f8f-def6-4704-9b66-742db83a0873 button.colab-df-convert');\n",
              "        buttonEl.style.display =\n",
              "          google.colab.kernel.accessAllowed ? 'block' : 'none';\n",
              "\n",
              "        async function convertToInteractive(key) {\n",
              "          const element = document.querySelector('#df-38143f8f-def6-4704-9b66-742db83a0873');\n",
              "          const dataTable =\n",
              "            await google.colab.kernel.invokeFunction('convertToInteractive',\n",
              "                                                     [key], {});\n",
              "          if (!dataTable) return;\n",
              "\n",
              "          const docLinkHtml = 'Like what you see? Visit the ' +\n",
              "            '<a target=\"_blank\" href=https://colab.research.google.com/notebooks/data_table.ipynb>data table notebook</a>'\n",
              "            + ' to learn more about interactive tables.';\n",
              "          element.innerHTML = '';\n",
              "          dataTable['output_type'] = 'display_data';\n",
              "          await google.colab.output.renderOutput(dataTable, element);\n",
              "          const docLink = document.createElement('div');\n",
              "          docLink.innerHTML = docLinkHtml;\n",
              "          element.appendChild(docLink);\n",
              "        }\n",
              "      </script>\n",
              "    </div>\n",
              "  </div>\n",
              "  "
            ]
          },
          "metadata": {},
          "execution_count": 54
        }
      ]
    },
    {
      "cell_type": "markdown",
      "source": [
        "increase boosting rounds more than 100 not improve the accuracy signficaltly"
      ],
      "metadata": {
        "id": "8WstbJ25ebAo"
      }
    },
    {
      "cell_type": "markdown",
      "source": [
        "## learning_rate\n",
        "The learning_rate parameter controls the step size at each iteration while moving toward a minimum of a loss function. In boosting algorithms, the learning rate determines the impact of each tree on the final prediction. A smaller learning rate makes the model more robust by adding more iterations and making the model converge more slowly. On the other hand, a larger learning rate leads to faster convergence, but the model might overfit to the training data\n",
        "\n",
        "default=0.1"
      ],
      "metadata": {
        "id": "81ApicmNfoE7"
      }
    },
    {
      "cell_type": "code",
      "source": [
        "learning_rate_options = [.01,0.1,1,5]\n",
        "score = [0,0,0,0]\n",
        "for i in range(len(learning_rate_options)):\n",
        "    # create an instance of the Perceptron class with multi_class='ovr'\n",
        "    model = lgb.LGBMClassifier(learning_rate=learning_rate_options[i])\n",
        "    # create a KFold object\n",
        "    kf = StratifiedKFold(n_splits=10, shuffle=True, random_state=42)\n",
        "    # perform cross-validation\n",
        "    scores = cross_val_score(model, X, y, cv=kf)\n",
        "    # save scores mean and std\n",
        "    score[i] = f\"{scores.mean():.3f} (+/- {scores.std():.3f})\"\n",
        "learning_rate = pd.DataFrame({'learning_rate': learning_rate_options, 'score': score})\n",
        "learning_rate"
      ],
      "metadata": {
        "colab": {
          "base_uri": "https://localhost:8080/",
          "height": 174
        },
        "id": "TQNfF-u2fnTP",
        "outputId": "5e015a15-391f-4769-ae87-8321cf717258"
      },
      "execution_count": null,
      "outputs": [
        {
          "output_type": "execute_result",
          "data": {
            "text/plain": [
              "   learning_rate              score\n",
              "0           0.01  0.944 (+/- 0.023)\n",
              "1           0.10  0.974 (+/- 0.013)\n",
              "2           1.00  0.976 (+/- 0.011)\n",
              "3           5.00  0.516 (+/- 0.097)"
            ],
            "text/html": [
              "\n",
              "  <div id=\"df-5f0e6f8d-0d8e-4437-a6dc-7776e34a3df3\">\n",
              "    <div class=\"colab-df-container\">\n",
              "      <div>\n",
              "<style scoped>\n",
              "    .dataframe tbody tr th:only-of-type {\n",
              "        vertical-align: middle;\n",
              "    }\n",
              "\n",
              "    .dataframe tbody tr th {\n",
              "        vertical-align: top;\n",
              "    }\n",
              "\n",
              "    .dataframe thead th {\n",
              "        text-align: right;\n",
              "    }\n",
              "</style>\n",
              "<table border=\"1\" class=\"dataframe\">\n",
              "  <thead>\n",
              "    <tr style=\"text-align: right;\">\n",
              "      <th></th>\n",
              "      <th>learning_rate</th>\n",
              "      <th>score</th>\n",
              "    </tr>\n",
              "  </thead>\n",
              "  <tbody>\n",
              "    <tr>\n",
              "      <th>0</th>\n",
              "      <td>0.01</td>\n",
              "      <td>0.944 (+/- 0.023)</td>\n",
              "    </tr>\n",
              "    <tr>\n",
              "      <th>1</th>\n",
              "      <td>0.10</td>\n",
              "      <td>0.974 (+/- 0.013)</td>\n",
              "    </tr>\n",
              "    <tr>\n",
              "      <th>2</th>\n",
              "      <td>1.00</td>\n",
              "      <td>0.976 (+/- 0.011)</td>\n",
              "    </tr>\n",
              "    <tr>\n",
              "      <th>3</th>\n",
              "      <td>5.00</td>\n",
              "      <td>0.516 (+/- 0.097)</td>\n",
              "    </tr>\n",
              "  </tbody>\n",
              "</table>\n",
              "</div>\n",
              "      <button class=\"colab-df-convert\" onclick=\"convertToInteractive('df-5f0e6f8d-0d8e-4437-a6dc-7776e34a3df3')\"\n",
              "              title=\"Convert this dataframe to an interactive table.\"\n",
              "              style=\"display:none;\">\n",
              "        \n",
              "  <svg xmlns=\"http://www.w3.org/2000/svg\" height=\"24px\"viewBox=\"0 0 24 24\"\n",
              "       width=\"24px\">\n",
              "    <path d=\"M0 0h24v24H0V0z\" fill=\"none\"/>\n",
              "    <path d=\"M18.56 5.44l.94 2.06.94-2.06 2.06-.94-2.06-.94-.94-2.06-.94 2.06-2.06.94zm-11 1L8.5 8.5l.94-2.06 2.06-.94-2.06-.94L8.5 2.5l-.94 2.06-2.06.94zm10 10l.94 2.06.94-2.06 2.06-.94-2.06-.94-.94-2.06-.94 2.06-2.06.94z\"/><path d=\"M17.41 7.96l-1.37-1.37c-.4-.4-.92-.59-1.43-.59-.52 0-1.04.2-1.43.59L10.3 9.45l-7.72 7.72c-.78.78-.78 2.05 0 2.83L4 21.41c.39.39.9.59 1.41.59.51 0 1.02-.2 1.41-.59l7.78-7.78 2.81-2.81c.8-.78.8-2.07 0-2.86zM5.41 20L4 18.59l7.72-7.72 1.47 1.35L5.41 20z\"/>\n",
              "  </svg>\n",
              "      </button>\n",
              "      \n",
              "  <style>\n",
              "    .colab-df-container {\n",
              "      display:flex;\n",
              "      flex-wrap:wrap;\n",
              "      gap: 12px;\n",
              "    }\n",
              "\n",
              "    .colab-df-convert {\n",
              "      background-color: #E8F0FE;\n",
              "      border: none;\n",
              "      border-radius: 50%;\n",
              "      cursor: pointer;\n",
              "      display: none;\n",
              "      fill: #1967D2;\n",
              "      height: 32px;\n",
              "      padding: 0 0 0 0;\n",
              "      width: 32px;\n",
              "    }\n",
              "\n",
              "    .colab-df-convert:hover {\n",
              "      background-color: #E2EBFA;\n",
              "      box-shadow: 0px 1px 2px rgba(60, 64, 67, 0.3), 0px 1px 3px 1px rgba(60, 64, 67, 0.15);\n",
              "      fill: #174EA6;\n",
              "    }\n",
              "\n",
              "    [theme=dark] .colab-df-convert {\n",
              "      background-color: #3B4455;\n",
              "      fill: #D2E3FC;\n",
              "    }\n",
              "\n",
              "    [theme=dark] .colab-df-convert:hover {\n",
              "      background-color: #434B5C;\n",
              "      box-shadow: 0px 1px 3px 1px rgba(0, 0, 0, 0.15);\n",
              "      filter: drop-shadow(0px 1px 2px rgba(0, 0, 0, 0.3));\n",
              "      fill: #FFFFFF;\n",
              "    }\n",
              "  </style>\n",
              "\n",
              "      <script>\n",
              "        const buttonEl =\n",
              "          document.querySelector('#df-5f0e6f8d-0d8e-4437-a6dc-7776e34a3df3 button.colab-df-convert');\n",
              "        buttonEl.style.display =\n",
              "          google.colab.kernel.accessAllowed ? 'block' : 'none';\n",
              "\n",
              "        async function convertToInteractive(key) {\n",
              "          const element = document.querySelector('#df-5f0e6f8d-0d8e-4437-a6dc-7776e34a3df3');\n",
              "          const dataTable =\n",
              "            await google.colab.kernel.invokeFunction('convertToInteractive',\n",
              "                                                     [key], {});\n",
              "          if (!dataTable) return;\n",
              "\n",
              "          const docLinkHtml = 'Like what you see? Visit the ' +\n",
              "            '<a target=\"_blank\" href=https://colab.research.google.com/notebooks/data_table.ipynb>data table notebook</a>'\n",
              "            + ' to learn more about interactive tables.';\n",
              "          element.innerHTML = '';\n",
              "          dataTable['output_type'] = 'display_data';\n",
              "          await google.colab.output.renderOutput(dataTable, element);\n",
              "          const docLink = document.createElement('div');\n",
              "          docLink.innerHTML = docLinkHtml;\n",
              "          element.appendChild(docLink);\n",
              "        }\n",
              "      </script>\n",
              "    </div>\n",
              "  </div>\n",
              "  "
            ]
          },
          "metadata": {},
          "execution_count": 55
        }
      ]
    },
    {
      "cell_type": "markdown",
      "source": [
        "smaller learning rate than the default get lower score as it does not get enough steps to reach the minmum loss and higher learning_rate llet it to not converge to the global minmum  "
      ],
      "metadata": {
        "id": "aiGaeUMoiSU3"
      }
    },
    {
      "cell_type": "markdown",
      "source": [
        "## num_leaves\n",
        "\n",
        "num_leaves is a hyperparameter that controls the number of leaves in a tree. A larger value of num_leaves can increase the capacity of the model to fit the training data, but can also lead to overfitting if the value is too large. Generally, the recommended value for num_leaves is lower than the total number of training samples.\n",
        "\n",
        "Increasing the value of num_leaves can also increase the complexity and computational cost of the model. \n",
        "\n",
        "default=31"
      ],
      "metadata": {
        "id": "Dzhks1pulLAw"
      }
    },
    {
      "cell_type": "code",
      "source": [
        "num_leaves_options = [31,50,100,200]\n",
        "score = [0,0,0,0]\n",
        "for i in range(len(num_leaves_options)):\n",
        "    # create an instance of the Perceptron class with multi_class='ovr'\n",
        "    model = lgb.LGBMClassifier(num_leaves=num_leaves_options[i])\n",
        "    # create a KFold object\n",
        "    kf = StratifiedKFold(n_splits=10, shuffle=True, random_state=42)\n",
        "    # perform cross-validation\n",
        "    scores = cross_val_score(model, X, y, cv=kf)\n",
        "    # save scores mean and std\n",
        "    score[i] = f\"{scores.mean():.3f} (+/- {scores.std():.3f})\"\n",
        "num_leaves = pd.DataFrame({'num_leaves': num_leaves_options, 'score': score})\n",
        "num_leaves"
      ],
      "metadata": {
        "colab": {
          "base_uri": "https://localhost:8080/",
          "height": 174
        },
        "id": "5uXtPPAMlQJE",
        "outputId": "c0686306-6383-43ee-efa5-719f0c528b71"
      },
      "execution_count": null,
      "outputs": [
        {
          "output_type": "execute_result",
          "data": {
            "text/plain": [
              "   num_leaves              score\n",
              "0          31  0.974 (+/- 0.013)\n",
              "1          50  0.977 (+/- 0.011)\n",
              "2         100  0.977 (+/- 0.011)\n",
              "3         200  0.977 (+/- 0.011)"
            ],
            "text/html": [
              "\n",
              "  <div id=\"df-54810401-ae3c-48c6-8cff-a7efb73c808e\">\n",
              "    <div class=\"colab-df-container\">\n",
              "      <div>\n",
              "<style scoped>\n",
              "    .dataframe tbody tr th:only-of-type {\n",
              "        vertical-align: middle;\n",
              "    }\n",
              "\n",
              "    .dataframe tbody tr th {\n",
              "        vertical-align: top;\n",
              "    }\n",
              "\n",
              "    .dataframe thead th {\n",
              "        text-align: right;\n",
              "    }\n",
              "</style>\n",
              "<table border=\"1\" class=\"dataframe\">\n",
              "  <thead>\n",
              "    <tr style=\"text-align: right;\">\n",
              "      <th></th>\n",
              "      <th>num_leaves</th>\n",
              "      <th>score</th>\n",
              "    </tr>\n",
              "  </thead>\n",
              "  <tbody>\n",
              "    <tr>\n",
              "      <th>0</th>\n",
              "      <td>31</td>\n",
              "      <td>0.974 (+/- 0.013)</td>\n",
              "    </tr>\n",
              "    <tr>\n",
              "      <th>1</th>\n",
              "      <td>50</td>\n",
              "      <td>0.977 (+/- 0.011)</td>\n",
              "    </tr>\n",
              "    <tr>\n",
              "      <th>2</th>\n",
              "      <td>100</td>\n",
              "      <td>0.977 (+/- 0.011)</td>\n",
              "    </tr>\n",
              "    <tr>\n",
              "      <th>3</th>\n",
              "      <td>200</td>\n",
              "      <td>0.977 (+/- 0.011)</td>\n",
              "    </tr>\n",
              "  </tbody>\n",
              "</table>\n",
              "</div>\n",
              "      <button class=\"colab-df-convert\" onclick=\"convertToInteractive('df-54810401-ae3c-48c6-8cff-a7efb73c808e')\"\n",
              "              title=\"Convert this dataframe to an interactive table.\"\n",
              "              style=\"display:none;\">\n",
              "        \n",
              "  <svg xmlns=\"http://www.w3.org/2000/svg\" height=\"24px\"viewBox=\"0 0 24 24\"\n",
              "       width=\"24px\">\n",
              "    <path d=\"M0 0h24v24H0V0z\" fill=\"none\"/>\n",
              "    <path d=\"M18.56 5.44l.94 2.06.94-2.06 2.06-.94-2.06-.94-.94-2.06-.94 2.06-2.06.94zm-11 1L8.5 8.5l.94-2.06 2.06-.94-2.06-.94L8.5 2.5l-.94 2.06-2.06.94zm10 10l.94 2.06.94-2.06 2.06-.94-2.06-.94-.94-2.06-.94 2.06-2.06.94z\"/><path d=\"M17.41 7.96l-1.37-1.37c-.4-.4-.92-.59-1.43-.59-.52 0-1.04.2-1.43.59L10.3 9.45l-7.72 7.72c-.78.78-.78 2.05 0 2.83L4 21.41c.39.39.9.59 1.41.59.51 0 1.02-.2 1.41-.59l7.78-7.78 2.81-2.81c.8-.78.8-2.07 0-2.86zM5.41 20L4 18.59l7.72-7.72 1.47 1.35L5.41 20z\"/>\n",
              "  </svg>\n",
              "      </button>\n",
              "      \n",
              "  <style>\n",
              "    .colab-df-container {\n",
              "      display:flex;\n",
              "      flex-wrap:wrap;\n",
              "      gap: 12px;\n",
              "    }\n",
              "\n",
              "    .colab-df-convert {\n",
              "      background-color: #E8F0FE;\n",
              "      border: none;\n",
              "      border-radius: 50%;\n",
              "      cursor: pointer;\n",
              "      display: none;\n",
              "      fill: #1967D2;\n",
              "      height: 32px;\n",
              "      padding: 0 0 0 0;\n",
              "      width: 32px;\n",
              "    }\n",
              "\n",
              "    .colab-df-convert:hover {\n",
              "      background-color: #E2EBFA;\n",
              "      box-shadow: 0px 1px 2px rgba(60, 64, 67, 0.3), 0px 1px 3px 1px rgba(60, 64, 67, 0.15);\n",
              "      fill: #174EA6;\n",
              "    }\n",
              "\n",
              "    [theme=dark] .colab-df-convert {\n",
              "      background-color: #3B4455;\n",
              "      fill: #D2E3FC;\n",
              "    }\n",
              "\n",
              "    [theme=dark] .colab-df-convert:hover {\n",
              "      background-color: #434B5C;\n",
              "      box-shadow: 0px 1px 3px 1px rgba(0, 0, 0, 0.15);\n",
              "      filter: drop-shadow(0px 1px 2px rgba(0, 0, 0, 0.3));\n",
              "      fill: #FFFFFF;\n",
              "    }\n",
              "  </style>\n",
              "\n",
              "      <script>\n",
              "        const buttonEl =\n",
              "          document.querySelector('#df-54810401-ae3c-48c6-8cff-a7efb73c808e button.colab-df-convert');\n",
              "        buttonEl.style.display =\n",
              "          google.colab.kernel.accessAllowed ? 'block' : 'none';\n",
              "\n",
              "        async function convertToInteractive(key) {\n",
              "          const element = document.querySelector('#df-54810401-ae3c-48c6-8cff-a7efb73c808e');\n",
              "          const dataTable =\n",
              "            await google.colab.kernel.invokeFunction('convertToInteractive',\n",
              "                                                     [key], {});\n",
              "          if (!dataTable) return;\n",
              "\n",
              "          const docLinkHtml = 'Like what you see? Visit the ' +\n",
              "            '<a target=\"_blank\" href=https://colab.research.google.com/notebooks/data_table.ipynb>data table notebook</a>'\n",
              "            + ' to learn more about interactive tables.';\n",
              "          element.innerHTML = '';\n",
              "          dataTable['output_type'] = 'display_data';\n",
              "          await google.colab.output.renderOutput(dataTable, element);\n",
              "          const docLink = document.createElement('div');\n",
              "          docLink.innerHTML = docLinkHtml;\n",
              "          element.appendChild(docLink);\n",
              "        }\n",
              "      </script>\n",
              "    </div>\n",
              "  </div>\n",
              "  "
            ]
          },
          "metadata": {},
          "execution_count": 61
        }
      ]
    },
    {
      "cell_type": "markdown",
      "source": [
        "Increase nuber of leaves over than 50 not affected the score"
      ],
      "metadata": {
        "id": "vRMpEJNhl1R0"
      }
    },
    {
      "cell_type": "markdown",
      "source": [
        "## max_depth\n",
        "\n",
        "max_depth controls the maximum depth of a decision tree built during each boosting iteration. It determines how complex the tree can be and how much it can fit to the training data. A higher max_depth value allows the model to learn more complex interactions among the features in the training data, but may also lead to overfitting. On the other hand, a lower max_depth value limits the complexity of the model and may result in underfitting.\n",
        "\n",
        "default=-1  (<=0 means no limit.)"
      ],
      "metadata": {
        "id": "w4waW7s9jsxI"
      }
    },
    {
      "cell_type": "code",
      "source": [
        "max_depth_options = [-1,10,100,1000]\n",
        "score = [0,0,0,0]\n",
        "for i in range(len(max_depth_options)):\n",
        "    # create an instance of the Perceptron class with multi_class='ovr'\n",
        "    model = lgb.LGBMClassifier(max_depth=max_depth_options[i],num_leaves=500)\n",
        "    # create a KFold object\n",
        "    kf = StratifiedKFold(n_splits=10, shuffle=True, random_state=42)\n",
        "    # perform cross-validation\n",
        "    scores = cross_val_score(model, X, y, cv=kf)\n",
        "    # save scores mean and std\n",
        "    score[i] = f\"{scores.mean():.3f} (+/- {scores.std():.3f})\"\n",
        "max_depth = pd.DataFrame({'max_depth': max_depth_options, 'score': score})\n",
        "max_depth"
      ],
      "metadata": {
        "colab": {
          "base_uri": "https://localhost:8080/",
          "height": 174
        },
        "id": "y8MKrSaYfJAf",
        "outputId": "e02c1d27-b8e5-43a7-9328-4b8e6bd18288"
      },
      "execution_count": null,
      "outputs": [
        {
          "output_type": "execute_result",
          "data": {
            "text/plain": [
              "   max_depth              score\n",
              "0         -1  0.977 (+/- 0.011)\n",
              "1         10  0.976 (+/- 0.012)\n",
              "2        100  0.977 (+/- 0.011)\n",
              "3       1000  0.977 (+/- 0.011)"
            ],
            "text/html": [
              "\n",
              "  <div id=\"df-5aa11a05-3431-4fff-a3d3-4c532dd2e9eb\">\n",
              "    <div class=\"colab-df-container\">\n",
              "      <div>\n",
              "<style scoped>\n",
              "    .dataframe tbody tr th:only-of-type {\n",
              "        vertical-align: middle;\n",
              "    }\n",
              "\n",
              "    .dataframe tbody tr th {\n",
              "        vertical-align: top;\n",
              "    }\n",
              "\n",
              "    .dataframe thead th {\n",
              "        text-align: right;\n",
              "    }\n",
              "</style>\n",
              "<table border=\"1\" class=\"dataframe\">\n",
              "  <thead>\n",
              "    <tr style=\"text-align: right;\">\n",
              "      <th></th>\n",
              "      <th>max_depth</th>\n",
              "      <th>score</th>\n",
              "    </tr>\n",
              "  </thead>\n",
              "  <tbody>\n",
              "    <tr>\n",
              "      <th>0</th>\n",
              "      <td>-1</td>\n",
              "      <td>0.977 (+/- 0.011)</td>\n",
              "    </tr>\n",
              "    <tr>\n",
              "      <th>1</th>\n",
              "      <td>10</td>\n",
              "      <td>0.976 (+/- 0.012)</td>\n",
              "    </tr>\n",
              "    <tr>\n",
              "      <th>2</th>\n",
              "      <td>100</td>\n",
              "      <td>0.977 (+/- 0.011)</td>\n",
              "    </tr>\n",
              "    <tr>\n",
              "      <th>3</th>\n",
              "      <td>1000</td>\n",
              "      <td>0.977 (+/- 0.011)</td>\n",
              "    </tr>\n",
              "  </tbody>\n",
              "</table>\n",
              "</div>\n",
              "      <button class=\"colab-df-convert\" onclick=\"convertToInteractive('df-5aa11a05-3431-4fff-a3d3-4c532dd2e9eb')\"\n",
              "              title=\"Convert this dataframe to an interactive table.\"\n",
              "              style=\"display:none;\">\n",
              "        \n",
              "  <svg xmlns=\"http://www.w3.org/2000/svg\" height=\"24px\"viewBox=\"0 0 24 24\"\n",
              "       width=\"24px\">\n",
              "    <path d=\"M0 0h24v24H0V0z\" fill=\"none\"/>\n",
              "    <path d=\"M18.56 5.44l.94 2.06.94-2.06 2.06-.94-2.06-.94-.94-2.06-.94 2.06-2.06.94zm-11 1L8.5 8.5l.94-2.06 2.06-.94-2.06-.94L8.5 2.5l-.94 2.06-2.06.94zm10 10l.94 2.06.94-2.06 2.06-.94-2.06-.94-.94-2.06-.94 2.06-2.06.94z\"/><path d=\"M17.41 7.96l-1.37-1.37c-.4-.4-.92-.59-1.43-.59-.52 0-1.04.2-1.43.59L10.3 9.45l-7.72 7.72c-.78.78-.78 2.05 0 2.83L4 21.41c.39.39.9.59 1.41.59.51 0 1.02-.2 1.41-.59l7.78-7.78 2.81-2.81c.8-.78.8-2.07 0-2.86zM5.41 20L4 18.59l7.72-7.72 1.47 1.35L5.41 20z\"/>\n",
              "  </svg>\n",
              "      </button>\n",
              "      \n",
              "  <style>\n",
              "    .colab-df-container {\n",
              "      display:flex;\n",
              "      flex-wrap:wrap;\n",
              "      gap: 12px;\n",
              "    }\n",
              "\n",
              "    .colab-df-convert {\n",
              "      background-color: #E8F0FE;\n",
              "      border: none;\n",
              "      border-radius: 50%;\n",
              "      cursor: pointer;\n",
              "      display: none;\n",
              "      fill: #1967D2;\n",
              "      height: 32px;\n",
              "      padding: 0 0 0 0;\n",
              "      width: 32px;\n",
              "    }\n",
              "\n",
              "    .colab-df-convert:hover {\n",
              "      background-color: #E2EBFA;\n",
              "      box-shadow: 0px 1px 2px rgba(60, 64, 67, 0.3), 0px 1px 3px 1px rgba(60, 64, 67, 0.15);\n",
              "      fill: #174EA6;\n",
              "    }\n",
              "\n",
              "    [theme=dark] .colab-df-convert {\n",
              "      background-color: #3B4455;\n",
              "      fill: #D2E3FC;\n",
              "    }\n",
              "\n",
              "    [theme=dark] .colab-df-convert:hover {\n",
              "      background-color: #434B5C;\n",
              "      box-shadow: 0px 1px 3px 1px rgba(0, 0, 0, 0.15);\n",
              "      filter: drop-shadow(0px 1px 2px rgba(0, 0, 0, 0.3));\n",
              "      fill: #FFFFFF;\n",
              "    }\n",
              "  </style>\n",
              "\n",
              "      <script>\n",
              "        const buttonEl =\n",
              "          document.querySelector('#df-5aa11a05-3431-4fff-a3d3-4c532dd2e9eb button.colab-df-convert');\n",
              "        buttonEl.style.display =\n",
              "          google.colab.kernel.accessAllowed ? 'block' : 'none';\n",
              "\n",
              "        async function convertToInteractive(key) {\n",
              "          const element = document.querySelector('#df-5aa11a05-3431-4fff-a3d3-4c532dd2e9eb');\n",
              "          const dataTable =\n",
              "            await google.colab.kernel.invokeFunction('convertToInteractive',\n",
              "                                                     [key], {});\n",
              "          if (!dataTable) return;\n",
              "\n",
              "          const docLinkHtml = 'Like what you see? Visit the ' +\n",
              "            '<a target=\"_blank\" href=https://colab.research.google.com/notebooks/data_table.ipynb>data table notebook</a>'\n",
              "            + ' to learn more about interactive tables.';\n",
              "          element.innerHTML = '';\n",
              "          dataTable['output_type'] = 'display_data';\n",
              "          await google.colab.output.renderOutput(dataTable, element);\n",
              "          const docLink = document.createElement('div');\n",
              "          docLink.innerHTML = docLinkHtml;\n",
              "          element.appendChild(docLink);\n",
              "        }\n",
              "      </script>\n",
              "    </div>\n",
              "  </div>\n",
              "  "
            ]
          },
          "metadata": {},
          "execution_count": 62
        }
      ]
    },
    {
      "cell_type": "markdown",
      "source": [
        "set num_leaves to large number to let max_dpth be the stoping critiria "
      ],
      "metadata": {
        "id": "NJjyniKMmgmN"
      }
    },
    {
      "cell_type": "markdown",
      "source": [
        "## objective\n",
        " the objective parameter specifies the loss function to be optimized during training. The default value is 'binary', which corresponds to binary classification using the logistic loss function. Other supported values include:\n",
        "\n",
        "'multiclass': for multi-class classification with softmax loss\n",
        "'multiclassova': for multi-class classification with One-vs-All (OvA) loss\n",
        "'regression': for regression problems using the mean squared error (MSE) loss function\n",
        "'mae': for regression problems using the mean absolute error (MAE) loss function\n",
        "There are also several other advanced objectives that can be used for specific problems or applications. The choice of objective function depends on the problem at hand and the type of output required."
      ],
      "metadata": {
        "id": "fcFUhxWlocnH"
      }
    },
    {
      "cell_type": "code",
      "source": [
        "# create an instance of the Perceptron class with multi_class='ovr'\n",
        "model = lgb.LGBMClassifier(objective='multiclass')\n",
        "# create a KFold object\n",
        "kf = StratifiedKFold(n_splits=10, shuffle=True, random_state=42)\n",
        "# perform cross-validation\n",
        "scores = cross_val_score(model, X, y, cv=kf)\n",
        "# save scores mean and std\n",
        "print(f\"Score {scores.mean():.3f} (+/- {scores.std():.3f})\")"
      ],
      "metadata": {
        "colab": {
          "base_uri": "https://localhost:8080/"
        },
        "id": "MMq1hMQPohq_",
        "outputId": "89a336d4-037f-42d8-91b4-ce936f0c3c1c"
      },
      "execution_count": null,
      "outputs": [
        {
          "output_type": "stream",
          "name": "stdout",
          "text": [
            "Score 0.974 (+/- 0.013)\n"
          ]
        }
      ]
    },
    {
      "cell_type": "markdown",
      "source": [
        "## class_weight\n",
        "\n",
        "The class_weight parameter allows you to handle class imbalance in the dataset during training. Class imbalance occurs when one class has significantly fewer instances than the other class(es), which can lead to poor performance on the minority class(es) during training.\n",
        "\n",
        "This parameter can take on different values, including:\n",
        "\n",
        "None: The model treats all classes equally, which may result in poor performance if the classes are imbalanced.\n",
        "\n",
        "balanced: The model automatically adjusts the weights inversely proportional to class frequencies in the input data. In other words, the weight of each class is set to be inversely proportional to the number of samples in that class. This helps to achieve balanced class weights during training.\n",
        "\n",
        "Custom dictionary: You can also pass a custom dictionary to the class_weight parameter, where each class label is mapped to a weight value. For example, {0: 0.5, 1: 0.3, 2: 0.2} maps class label 0 to weight 0.5, class label 1 to weight 0.3, and class label 2 to weight 0.2. This allows you to manually adjust the class weights as per your requirement."
      ],
      "metadata": {
        "id": "DEXHvPA0pbMK"
      }
    },
    {
      "cell_type": "code",
      "source": [
        "class_weight_options = [None,'balanced']\n",
        "score = [0,0]\n",
        "for i in range(len(class_weight_options)):\n",
        "    # create an instance of the Perceptron class with multi_class='ovr'\n",
        "    model = lgb.LGBMClassifier(class_weight=class_weight_options[i],objective='multiclass')\n",
        "    # create a KFold object\n",
        "    kf = StratifiedKFold(n_splits=10, shuffle=True, random_state=42)\n",
        "    # perform cross-validation\n",
        "    scores = cross_val_score(model, X, y, cv=kf)\n",
        "    # save scores mean and std\n",
        "    score[i] = f\"{scores.mean():.3f} (+/- {scores.std():.3f})\"\n",
        "class_weight = pd.DataFrame({'class_weight': class_weight_options, 'score': score})\n",
        "class_weight"
      ],
      "metadata": {
        "colab": {
          "base_uri": "https://localhost:8080/",
          "height": 112
        },
        "id": "0UkkFen3pK9h",
        "outputId": "252a1a62-3509-437c-c55e-f13bd8963b90"
      },
      "execution_count": null,
      "outputs": [
        {
          "output_type": "execute_result",
          "data": {
            "text/plain": [
              "  class_weight              score\n",
              "0         None  0.974 (+/- 0.013)\n",
              "1     balanced  0.976 (+/- 0.010)"
            ],
            "text/html": [
              "\n",
              "  <div id=\"df-ae2f859d-8e8a-4466-b3b1-03bf45534c45\">\n",
              "    <div class=\"colab-df-container\">\n",
              "      <div>\n",
              "<style scoped>\n",
              "    .dataframe tbody tr th:only-of-type {\n",
              "        vertical-align: middle;\n",
              "    }\n",
              "\n",
              "    .dataframe tbody tr th {\n",
              "        vertical-align: top;\n",
              "    }\n",
              "\n",
              "    .dataframe thead th {\n",
              "        text-align: right;\n",
              "    }\n",
              "</style>\n",
              "<table border=\"1\" class=\"dataframe\">\n",
              "  <thead>\n",
              "    <tr style=\"text-align: right;\">\n",
              "      <th></th>\n",
              "      <th>class_weight</th>\n",
              "      <th>score</th>\n",
              "    </tr>\n",
              "  </thead>\n",
              "  <tbody>\n",
              "    <tr>\n",
              "      <th>0</th>\n",
              "      <td>None</td>\n",
              "      <td>0.974 (+/- 0.013)</td>\n",
              "    </tr>\n",
              "    <tr>\n",
              "      <th>1</th>\n",
              "      <td>balanced</td>\n",
              "      <td>0.976 (+/- 0.010)</td>\n",
              "    </tr>\n",
              "  </tbody>\n",
              "</table>\n",
              "</div>\n",
              "      <button class=\"colab-df-convert\" onclick=\"convertToInteractive('df-ae2f859d-8e8a-4466-b3b1-03bf45534c45')\"\n",
              "              title=\"Convert this dataframe to an interactive table.\"\n",
              "              style=\"display:none;\">\n",
              "        \n",
              "  <svg xmlns=\"http://www.w3.org/2000/svg\" height=\"24px\"viewBox=\"0 0 24 24\"\n",
              "       width=\"24px\">\n",
              "    <path d=\"M0 0h24v24H0V0z\" fill=\"none\"/>\n",
              "    <path d=\"M18.56 5.44l.94 2.06.94-2.06 2.06-.94-2.06-.94-.94-2.06-.94 2.06-2.06.94zm-11 1L8.5 8.5l.94-2.06 2.06-.94-2.06-.94L8.5 2.5l-.94 2.06-2.06.94zm10 10l.94 2.06.94-2.06 2.06-.94-2.06-.94-.94-2.06-.94 2.06-2.06.94z\"/><path d=\"M17.41 7.96l-1.37-1.37c-.4-.4-.92-.59-1.43-.59-.52 0-1.04.2-1.43.59L10.3 9.45l-7.72 7.72c-.78.78-.78 2.05 0 2.83L4 21.41c.39.39.9.59 1.41.59.51 0 1.02-.2 1.41-.59l7.78-7.78 2.81-2.81c.8-.78.8-2.07 0-2.86zM5.41 20L4 18.59l7.72-7.72 1.47 1.35L5.41 20z\"/>\n",
              "  </svg>\n",
              "      </button>\n",
              "      \n",
              "  <style>\n",
              "    .colab-df-container {\n",
              "      display:flex;\n",
              "      flex-wrap:wrap;\n",
              "      gap: 12px;\n",
              "    }\n",
              "\n",
              "    .colab-df-convert {\n",
              "      background-color: #E8F0FE;\n",
              "      border: none;\n",
              "      border-radius: 50%;\n",
              "      cursor: pointer;\n",
              "      display: none;\n",
              "      fill: #1967D2;\n",
              "      height: 32px;\n",
              "      padding: 0 0 0 0;\n",
              "      width: 32px;\n",
              "    }\n",
              "\n",
              "    .colab-df-convert:hover {\n",
              "      background-color: #E2EBFA;\n",
              "      box-shadow: 0px 1px 2px rgba(60, 64, 67, 0.3), 0px 1px 3px 1px rgba(60, 64, 67, 0.15);\n",
              "      fill: #174EA6;\n",
              "    }\n",
              "\n",
              "    [theme=dark] .colab-df-convert {\n",
              "      background-color: #3B4455;\n",
              "      fill: #D2E3FC;\n",
              "    }\n",
              "\n",
              "    [theme=dark] .colab-df-convert:hover {\n",
              "      background-color: #434B5C;\n",
              "      box-shadow: 0px 1px 3px 1px rgba(0, 0, 0, 0.15);\n",
              "      filter: drop-shadow(0px 1px 2px rgba(0, 0, 0, 0.3));\n",
              "      fill: #FFFFFF;\n",
              "    }\n",
              "  </style>\n",
              "\n",
              "      <script>\n",
              "        const buttonEl =\n",
              "          document.querySelector('#df-ae2f859d-8e8a-4466-b3b1-03bf45534c45 button.colab-df-convert');\n",
              "        buttonEl.style.display =\n",
              "          google.colab.kernel.accessAllowed ? 'block' : 'none';\n",
              "\n",
              "        async function convertToInteractive(key) {\n",
              "          const element = document.querySelector('#df-ae2f859d-8e8a-4466-b3b1-03bf45534c45');\n",
              "          const dataTable =\n",
              "            await google.colab.kernel.invokeFunction('convertToInteractive',\n",
              "                                                     [key], {});\n",
              "          if (!dataTable) return;\n",
              "\n",
              "          const docLinkHtml = 'Like what you see? Visit the ' +\n",
              "            '<a target=\"_blank\" href=https://colab.research.google.com/notebooks/data_table.ipynb>data table notebook</a>'\n",
              "            + ' to learn more about interactive tables.';\n",
              "          element.innerHTML = '';\n",
              "          dataTable['output_type'] = 'display_data';\n",
              "          await google.colab.output.renderOutput(dataTable, element);\n",
              "          const docLink = document.createElement('div');\n",
              "          docLink.innerHTML = docLinkHtml;\n",
              "          element.appendChild(docLink);\n",
              "        }\n",
              "      </script>\n",
              "    </div>\n",
              "  </div>\n",
              "  "
            ]
          },
          "metadata": {},
          "execution_count": 65
        }
      ]
    },
    {
      "cell_type": "markdown",
      "source": [
        "## reg_alpha\n",
        "reg_alpha is a regularization parameter that controls L1 regularization, which adds a penalty term to the objective function to prevent overfitting. It is used to control the amount of regularization applied to the model. The higher the value of reg_alpha, the higher the regularization applied, and the simpler the model. This parameter is used to reduce the impact of irrelevant features or noise in the data. A value of 0 means no regularization is applied. The default value is 0.0. Increasing the value of reg_alpha can also help in reducing the variance of the model, but it can increase the bias as well."
      ],
      "metadata": {
        "id": "gBnIkPyRsSYz"
      }
    },
    {
      "cell_type": "code",
      "source": [
        "reg_alpha_options = [0,0.01,0.1,0.5]\n",
        "score = [0,0,0,0]\n",
        "for i in range(len(reg_alpha_options)):\n",
        "    model = lgb.LGBMClassifier(reg_alpha=reg_alpha_options[i],objective='multiclass',class_weight='balanced')\n",
        "    # create a KFold object\n",
        "    kf = StratifiedKFold(n_splits=10, shuffle=True, random_state=42)\n",
        "    # perform cross-validation\n",
        "    scores = cross_val_score(model, X, y, cv=kf)\n",
        "    # save scores mean and std\n",
        "    score[i] = f\"{scores.mean():.3f} (+/- {scores.std():.3f})\"\n",
        "reg_alpha = pd.DataFrame({'reg_alpha': reg_alpha_options, 'score': score})\n",
        "reg_alpha"
      ],
      "metadata": {
        "colab": {
          "base_uri": "https://localhost:8080/",
          "height": 174
        },
        "id": "x-mIVg_OsZaL",
        "outputId": "e26df693-8bc5-42f9-9a0f-14212af57a12"
      },
      "execution_count": null,
      "outputs": [
        {
          "output_type": "execute_result",
          "data": {
            "text/plain": [
              "   reg_alpha              score\n",
              "0       0.00  0.976 (+/- 0.010)\n",
              "1       0.01  0.978 (+/- 0.014)\n",
              "2       0.10  0.976 (+/- 0.013)\n",
              "3       0.50  0.972 (+/- 0.012)"
            ],
            "text/html": [
              "\n",
              "  <div id=\"df-c617d304-9369-46af-8409-b641d80f69c5\">\n",
              "    <div class=\"colab-df-container\">\n",
              "      <div>\n",
              "<style scoped>\n",
              "    .dataframe tbody tr th:only-of-type {\n",
              "        vertical-align: middle;\n",
              "    }\n",
              "\n",
              "    .dataframe tbody tr th {\n",
              "        vertical-align: top;\n",
              "    }\n",
              "\n",
              "    .dataframe thead th {\n",
              "        text-align: right;\n",
              "    }\n",
              "</style>\n",
              "<table border=\"1\" class=\"dataframe\">\n",
              "  <thead>\n",
              "    <tr style=\"text-align: right;\">\n",
              "      <th></th>\n",
              "      <th>reg_alpha</th>\n",
              "      <th>score</th>\n",
              "    </tr>\n",
              "  </thead>\n",
              "  <tbody>\n",
              "    <tr>\n",
              "      <th>0</th>\n",
              "      <td>0.00</td>\n",
              "      <td>0.976 (+/- 0.010)</td>\n",
              "    </tr>\n",
              "    <tr>\n",
              "      <th>1</th>\n",
              "      <td>0.01</td>\n",
              "      <td>0.978 (+/- 0.014)</td>\n",
              "    </tr>\n",
              "    <tr>\n",
              "      <th>2</th>\n",
              "      <td>0.10</td>\n",
              "      <td>0.976 (+/- 0.013)</td>\n",
              "    </tr>\n",
              "    <tr>\n",
              "      <th>3</th>\n",
              "      <td>0.50</td>\n",
              "      <td>0.972 (+/- 0.012)</td>\n",
              "    </tr>\n",
              "  </tbody>\n",
              "</table>\n",
              "</div>\n",
              "      <button class=\"colab-df-convert\" onclick=\"convertToInteractive('df-c617d304-9369-46af-8409-b641d80f69c5')\"\n",
              "              title=\"Convert this dataframe to an interactive table.\"\n",
              "              style=\"display:none;\">\n",
              "        \n",
              "  <svg xmlns=\"http://www.w3.org/2000/svg\" height=\"24px\"viewBox=\"0 0 24 24\"\n",
              "       width=\"24px\">\n",
              "    <path d=\"M0 0h24v24H0V0z\" fill=\"none\"/>\n",
              "    <path d=\"M18.56 5.44l.94 2.06.94-2.06 2.06-.94-2.06-.94-.94-2.06-.94 2.06-2.06.94zm-11 1L8.5 8.5l.94-2.06 2.06-.94-2.06-.94L8.5 2.5l-.94 2.06-2.06.94zm10 10l.94 2.06.94-2.06 2.06-.94-2.06-.94-.94-2.06-.94 2.06-2.06.94z\"/><path d=\"M17.41 7.96l-1.37-1.37c-.4-.4-.92-.59-1.43-.59-.52 0-1.04.2-1.43.59L10.3 9.45l-7.72 7.72c-.78.78-.78 2.05 0 2.83L4 21.41c.39.39.9.59 1.41.59.51 0 1.02-.2 1.41-.59l7.78-7.78 2.81-2.81c.8-.78.8-2.07 0-2.86zM5.41 20L4 18.59l7.72-7.72 1.47 1.35L5.41 20z\"/>\n",
              "  </svg>\n",
              "      </button>\n",
              "      \n",
              "  <style>\n",
              "    .colab-df-container {\n",
              "      display:flex;\n",
              "      flex-wrap:wrap;\n",
              "      gap: 12px;\n",
              "    }\n",
              "\n",
              "    .colab-df-convert {\n",
              "      background-color: #E8F0FE;\n",
              "      border: none;\n",
              "      border-radius: 50%;\n",
              "      cursor: pointer;\n",
              "      display: none;\n",
              "      fill: #1967D2;\n",
              "      height: 32px;\n",
              "      padding: 0 0 0 0;\n",
              "      width: 32px;\n",
              "    }\n",
              "\n",
              "    .colab-df-convert:hover {\n",
              "      background-color: #E2EBFA;\n",
              "      box-shadow: 0px 1px 2px rgba(60, 64, 67, 0.3), 0px 1px 3px 1px rgba(60, 64, 67, 0.15);\n",
              "      fill: #174EA6;\n",
              "    }\n",
              "\n",
              "    [theme=dark] .colab-df-convert {\n",
              "      background-color: #3B4455;\n",
              "      fill: #D2E3FC;\n",
              "    }\n",
              "\n",
              "    [theme=dark] .colab-df-convert:hover {\n",
              "      background-color: #434B5C;\n",
              "      box-shadow: 0px 1px 3px 1px rgba(0, 0, 0, 0.15);\n",
              "      filter: drop-shadow(0px 1px 2px rgba(0, 0, 0, 0.3));\n",
              "      fill: #FFFFFF;\n",
              "    }\n",
              "  </style>\n",
              "\n",
              "      <script>\n",
              "        const buttonEl =\n",
              "          document.querySelector('#df-c617d304-9369-46af-8409-b641d80f69c5 button.colab-df-convert');\n",
              "        buttonEl.style.display =\n",
              "          google.colab.kernel.accessAllowed ? 'block' : 'none';\n",
              "\n",
              "        async function convertToInteractive(key) {\n",
              "          const element = document.querySelector('#df-c617d304-9369-46af-8409-b641d80f69c5');\n",
              "          const dataTable =\n",
              "            await google.colab.kernel.invokeFunction('convertToInteractive',\n",
              "                                                     [key], {});\n",
              "          if (!dataTable) return;\n",
              "\n",
              "          const docLinkHtml = 'Like what you see? Visit the ' +\n",
              "            '<a target=\"_blank\" href=https://colab.research.google.com/notebooks/data_table.ipynb>data table notebook</a>'\n",
              "            + ' to learn more about interactive tables.';\n",
              "          element.innerHTML = '';\n",
              "          dataTable['output_type'] = 'display_data';\n",
              "          await google.colab.output.renderOutput(dataTable, element);\n",
              "          const docLink = document.createElement('div');\n",
              "          docLink.innerHTML = docLinkHtml;\n",
              "          element.appendChild(docLink);\n",
              "        }\n",
              "      </script>\n",
              "    </div>\n",
              "  </div>\n",
              "  "
            ]
          },
          "metadata": {},
          "execution_count": 67
        }
      ]
    },
    {
      "cell_type": "markdown",
      "source": [
        "it is better to have no or small regularization as it is better to have low bias\n",
        "\n"
      ],
      "metadata": {
        "id": "q-QWBDlUugHG"
      }
    },
    {
      "cell_type": "code",
      "source": [
        "import pandas as pd\n",
        "from sklearn.model_selection import KFold, cross_val_score\n",
        "from catboost import CatBoostClassifier\n",
        "from sklearn.preprocessing import StandardScaler\n",
        "\n",
        "# load the data into a Pandas DataFrame\n",
        "data = pd.read_csv('body_level_classification_train.csv')\n",
        "\n",
        "# convert Body Level to numeric values\n",
        "data['Gender'] = pd.factorize(data['Gender'])[0]\n",
        "data['Body_Level'] = pd.factorize(data['Body_Level'])[0]\n",
        "# H_Cal_Consump\n",
        "data['H_Cal_Consump'] = pd.factorize(data['H_Cal_Consump'])[0]\n",
        "# Alcohol_Consump\n",
        "data['Alcohol_Consump'] = pd.factorize(data['Alcohol_Consump'])[0]\n",
        "# Smoking\n",
        "data['Smoking'] = pd.factorize(data['Smoking'])[0]\n",
        "# Food_Between_Meals\n",
        "data['Food_Between_Meals'] = pd.factorize(data['Food_Between_Meals'])[0]\n",
        "# Fam_Hist\n",
        "data['Fam_Hist'] = pd.factorize(data['Fam_Hist'])[0]\n",
        "# H_Col_Burn\n",
        "data['H_Cal_Burn'] = pd.factorize(data['H_Cal_Burn'])[0]\n",
        "# Tranport\n",
        "data['Transport'] = pd.factorize(data['Transport'])[0]\n",
        "\n",
        "# separate the features and target variable\n",
        "X = data.drop('Body_Level', axis=1)\n",
        "y = data['Body_Level']\n",
        "\n",
        "## scaleing doesnot make any change in score\n",
        "# scaler = StandardScaler()\n",
        "# X = scaler.fit_transform(X)\n",
        "\n",
        "# create an XGBoost classifier object\n",
        "model = CatBoostClassifier()\n",
        "\n",
        "# create a KFold object\n",
        "kf = KFold(n_splits=10, shuffle=True, random_state=42)\n",
        "\n",
        "# perform cross-validation\n",
        "scores = cross_val_score(model, X, y, cv=kf)\n",
        "\n",
        "# print the mean and standard deviation of the scores\n",
        "print(f\"Accuracy: {scores.mean():.2f} (+/- {scores.std():.2f})\")\n"
      ],
      "metadata": {
        "id": "Wkvwlvw779zO"
      },
      "execution_count": null,
      "outputs": []
    },
    {
      "cell_type": "code",
      "source": [
        "! pip install catboost\n"
      ],
      "metadata": {
        "colab": {
          "base_uri": "https://localhost:8080/"
        },
        "id": "wwlyfkH88VA0",
        "outputId": "b2f8f75b-c727-4d7f-ecc3-97190a5b9603"
      },
      "execution_count": null,
      "outputs": [
        {
          "output_type": "stream",
          "name": "stdout",
          "text": [
            "Looking in indexes: https://pypi.org/simple, https://us-python.pkg.dev/colab-wheels/public/simple/\n",
            "Collecting catboost\n",
            "  Downloading catboost-1.2-cp310-cp310-manylinux2014_x86_64.whl (98.6 MB)\n",
            "\u001b[2K     \u001b[90m━━━━━━━━━━━━━━━━━━━━━━━━━━━━━━━━━━━━━━━━\u001b[0m \u001b[32m98.6/98.6 MB\u001b[0m \u001b[31m7.9 MB/s\u001b[0m eta \u001b[36m0:00:00\u001b[0m\n",
            "\u001b[?25hRequirement already satisfied: graphviz in /usr/local/lib/python3.10/dist-packages (from catboost) (0.20.1)\n",
            "Requirement already satisfied: matplotlib in /usr/local/lib/python3.10/dist-packages (from catboost) (3.7.1)\n",
            "Requirement already satisfied: numpy>=1.16.0 in /usr/local/lib/python3.10/dist-packages (from catboost) (1.22.4)\n",
            "Requirement already satisfied: pandas>=0.24 in /usr/local/lib/python3.10/dist-packages (from catboost) (1.5.3)\n",
            "Requirement already satisfied: scipy in /usr/local/lib/python3.10/dist-packages (from catboost) (1.10.1)\n",
            "Requirement already satisfied: plotly in /usr/local/lib/python3.10/dist-packages (from catboost) (5.13.1)\n",
            "Requirement already satisfied: six in /usr/local/lib/python3.10/dist-packages (from catboost) (1.16.0)\n",
            "Requirement already satisfied: python-dateutil>=2.8.1 in /usr/local/lib/python3.10/dist-packages (from pandas>=0.24->catboost) (2.8.2)\n",
            "Requirement already satisfied: pytz>=2020.1 in /usr/local/lib/python3.10/dist-packages (from pandas>=0.24->catboost) (2022.7.1)\n",
            "Requirement already satisfied: contourpy>=1.0.1 in /usr/local/lib/python3.10/dist-packages (from matplotlib->catboost) (1.0.7)\n",
            "Requirement already satisfied: cycler>=0.10 in /usr/local/lib/python3.10/dist-packages (from matplotlib->catboost) (0.11.0)\n",
            "Requirement already satisfied: fonttools>=4.22.0 in /usr/local/lib/python3.10/dist-packages (from matplotlib->catboost) (4.39.3)\n",
            "Requirement already satisfied: kiwisolver>=1.0.1 in /usr/local/lib/python3.10/dist-packages (from matplotlib->catboost) (1.4.4)\n",
            "Requirement already satisfied: packaging>=20.0 in /usr/local/lib/python3.10/dist-packages (from matplotlib->catboost) (23.1)\n",
            "Requirement already satisfied: pillow>=6.2.0 in /usr/local/lib/python3.10/dist-packages (from matplotlib->catboost) (8.4.0)\n",
            "Requirement already satisfied: pyparsing>=2.3.1 in /usr/local/lib/python3.10/dist-packages (from matplotlib->catboost) (3.0.9)\n",
            "Requirement already satisfied: tenacity>=6.2.0 in /usr/local/lib/python3.10/dist-packages (from plotly->catboost) (8.2.2)\n",
            "Installing collected packages: catboost\n",
            "Successfully installed catboost-1.2\n"
          ]
        }
      ]
    }
  ]
}